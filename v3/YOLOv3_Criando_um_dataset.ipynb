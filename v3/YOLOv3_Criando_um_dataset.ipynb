{
  "nbformat": 4,
  "nbformat_minor": 0,
  "metadata": {
    "colab": {
      "name": "YOLOv3 - Criando um dataset",
      "provenance": [],
      "collapsed_sections": [],
      "toc_visible": true
    },
    "kernelspec": {
      "name": "python3",
      "display_name": "Python 3"
    }
  },
  "cells": [
    {
      "cell_type": "markdown",
      "metadata": {
        "id": "gvnZra8OXj8U"
      },
      "source": [
        "# YOLOv3 - Como criar sua própria base de imagens"
      ]
    },
    {
      "cell_type": "markdown",
      "metadata": {
        "id": "W3mr1n76gN-1"
      },
      "source": [
        "O nosso conjunto de imagens customizado para fazer o treinamento com o YOLO deve conter:\n",
        "\n",
        "* Imagens dos objetos que queremos reconhecer, já catalogadas (com os arquivos annotation)\n",
        "* Arquivos obj.data e obj.names \n",
        "* Arquivo .cfg customizado\n",
        "* Arquivo train.txt (test.txt é opcional)"
      ]
    },
    {
      "cell_type": "markdown",
      "metadata": {
        "id": "6N5AYMarjtZ_"
      },
      "source": [
        "Há duas maneiras principais de reunir as imagens dos objetos que queremos treinar. \n",
        "* A primeira é baixar de um dataset ou repositório como o Open Images Dataset, um dataset da Google que disponibiliza imagens para mais de 600 classes diferentes.\n",
        "A maneira mais prática atualmente de baixar as imagens do Open Images Dataset é usar a ferramenta [OIDv4 Toolkit](https://github.com/EscVM/OIDv4_ToolKit). \n",
        "* A segunda maneira consiste em baixar manualmente as imagens do objeto e catalogá-las utilizando alguma ferramenta de anotação (annotation tool) para obter os txt com as anotações. Esse é um processo manual e que pode ser bastante demorado, portanto recomendamos verificar se a classe escolhida não está no Dataset do Google. Se você não encontrou no Open Images Dataset o objeto que deseja detectar então é necessário baixar manualmente. Por ser um método mais demorado e cansativo nós recomendamos fazer somente caso não tiver outra maneira de conseguir facilmente baixar essa imagens."
      ]
    },
    {
      "cell_type": "markdown",
      "metadata": {
        "id": "4hMF6FKxoUJo"
      },
      "source": [
        "Nesse Colab iremos utilizar o primeiro método apenas, pois o segundo não é possível realizar usando apenas o Colab. Porém, deixaremos no final do tutorial as instruções que devem ser seguidas para construir o dataset manualmente."
      ]
    },
    {
      "cell_type": "markdown",
      "metadata": {
        "id": "R_lNQfvXcXEl"
      },
      "source": [
        "# Coletando e catalogando as imagens do objeto para treinamento\n",
        "Abaixo veremos como criar o dataset contendo as imagens dos objetos que queremos que o YOLO reconheça"
      ]
    },
    {
      "cell_type": "markdown",
      "metadata": {
        "id": "PS0oGeB4X59W"
      },
      "source": [
        "## Etapa 1 - Clonando o repositório da ferramenta"
      ]
    },
    {
      "cell_type": "markdown",
      "metadata": {
        "id": "dqbJQ4USYd4w"
      },
      "source": [
        "Vamos baixar os arquivos do OIDv4 Toolkit para podermos fazer o download das imagens do Open Images Dataset"
      ]
    },
    {
      "cell_type": "code",
      "metadata": {
        "id": "UyucoO5z9hM5",
        "outputId": "6fce7d8b-626f-43c0-93e2-a61af4b792ba",
        "colab": {
          "base_uri": "https://localhost:8080/",
          "height": 105
        }
      },
      "source": [
        "!git clone https://github.com/EscVM/OIDv4_ToolKit.git"
      ],
      "execution_count": null,
      "outputs": [
        {
          "output_type": "stream",
          "text": [
            "Cloning into 'OIDv4_ToolKit'...\n",
            "remote: Enumerating objects: 422, done.\u001b[K\n",
            "remote: Total 422 (delta 0), reused 0 (delta 0), pack-reused 422\u001b[K\n",
            "Receiving objects: 100% (422/422), 34.08 MiB | 36.47 MiB/s, done.\n",
            "Resolving deltas: 100% (146/146), done.\n"
          ],
          "name": "stdout"
        }
      ]
    },
    {
      "cell_type": "markdown",
      "metadata": {
        "id": "VvoV8HWxYNIV"
      },
      "source": [
        "Também é possível baixar o arquivo ZIP acessando o repositório no Github: https://github.com/EscVM/OIDv4_ToolKit "
      ]
    },
    {
      "cell_type": "markdown",
      "metadata": {
        "id": "0HGydJaEYTdj"
      },
      "source": [
        "## Etapa 2 - Acessando o diretório da ferramenta "
      ]
    },
    {
      "cell_type": "code",
      "metadata": {
        "id": "8Hg9T3Pc9ryg",
        "outputId": "e24369ab-528c-4b90-d364-ed16a9664ce6",
        "colab": {
          "base_uri": "https://localhost:8080/",
          "height": 34
        }
      },
      "source": [
        "%cd OIDv4_ToolKit"
      ],
      "execution_count": null,
      "outputs": [
        {
          "output_type": "stream",
          "text": [
            "/content/OIDv4_ToolKit\n"
          ],
          "name": "stdout"
        }
      ]
    },
    {
      "cell_type": "markdown",
      "metadata": {
        "id": "2W7YuGT479nQ"
      },
      "source": [
        "Vamos listar os arquivos dentro do repositório para ver se está tudo conforme o esperado"
      ]
    },
    {
      "cell_type": "code",
      "metadata": {
        "id": "dLqkOscx-mPe",
        "outputId": "c94a425d-b06c-428d-df57-b6b9c328dc31",
        "colab": {
          "base_uri": "https://localhost:8080/",
          "height": 34
        }
      },
      "source": [
        "ls"
      ],
      "execution_count": null,
      "outputs": [
        {
          "output_type": "stream",
          "text": [
            "classes.txt  \u001b[0m\u001b[01;34mimages\u001b[0m/  LICENSE  main.py  \u001b[01;34mmodules\u001b[0m/  README.md  requirements.txt\n"
          ],
          "name": "stdout"
        }
      ]
    },
    {
      "cell_type": "markdown",
      "metadata": {
        "id": "FWLutEtfYrrh"
      },
      "source": [
        "## Etapa 3 - Instalando todas as bibliotecas necessárias"
      ]
    },
    {
      "cell_type": "code",
      "metadata": {
        "id": "lRJ46CU-95xJ",
        "outputId": "2161d482-7fe7-45cd-fde9-47aad13cdb3f",
        "colab": {
          "base_uri": "https://localhost:8080/",
          "height": 600
        }
      },
      "source": [
        "!pip3 install -r requirements.txt"
      ],
      "execution_count": null,
      "outputs": [
        {
          "output_type": "stream",
          "text": [
            "Requirement already satisfied: pandas in /usr/local/lib/python3.6/dist-packages (from -r requirements.txt (line 1)) (1.0.5)\n",
            "Requirement already satisfied: numpy in /usr/local/lib/python3.6/dist-packages (from -r requirements.txt (line 2)) (1.18.5)\n",
            "Collecting awscli\n",
            "\u001b[?25l  Downloading https://files.pythonhosted.org/packages/40/c1/45522870b0f859e3f2821d5688984091c976e4ecae134df3c1ec8e40f5c0/awscli-1.18.144-py2.py3-none-any.whl (3.3MB)\n",
            "\u001b[K     |████████████████████████████████| 3.3MB 2.8MB/s \n",
            "\u001b[?25hRequirement already satisfied: urllib3 in /usr/local/lib/python3.6/dist-packages (from -r requirements.txt (line 5)) (1.24.3)\n",
            "Requirement already satisfied: tqdm in /usr/local/lib/python3.6/dist-packages (from -r requirements.txt (line 7)) (4.41.1)\n",
            "Requirement already satisfied: opencv-python in /usr/local/lib/python3.6/dist-packages (from -r requirements.txt (line 9)) (4.1.2.30)\n",
            "Requirement already satisfied: python-dateutil>=2.6.1 in /usr/local/lib/python3.6/dist-packages (from pandas->-r requirements.txt (line 1)) (2.8.1)\n",
            "Requirement already satisfied: pytz>=2017.2 in /usr/local/lib/python3.6/dist-packages (from pandas->-r requirements.txt (line 1)) (2018.9)\n",
            "Requirement already satisfied: s3transfer<0.4.0,>=0.3.0 in /usr/local/lib/python3.6/dist-packages (from awscli->-r requirements.txt (line 3)) (0.3.3)\n",
            "Collecting colorama<0.4.4,>=0.2.5; python_version != \"3.4\"\n",
            "  Downloading https://files.pythonhosted.org/packages/c9/dc/45cdef1b4d119eb96316b3117e6d5708a08029992b2fee2c143c7a0a5cc5/colorama-0.4.3-py2.py3-none-any.whl\n",
            "Requirement already satisfied: PyYAML<5.4,>=3.10; python_version != \"3.4\" in /usr/local/lib/python3.6/dist-packages (from awscli->-r requirements.txt (line 3)) (3.13)\n",
            "Requirement already satisfied: docutils<0.16,>=0.10 in /usr/local/lib/python3.6/dist-packages (from awscli->-r requirements.txt (line 3)) (0.15.2)\n",
            "Collecting rsa<=4.5.0,>=3.1.2; python_version != \"3.4\"\n",
            "  Downloading https://files.pythonhosted.org/packages/26/f8/8127fdda0294f044121d20aac7785feb810e159098447967a6103dedfb96/rsa-4.5-py2.py3-none-any.whl\n",
            "Collecting botocore==1.18.3\n",
            "\u001b[?25l  Downloading https://files.pythonhosted.org/packages/6f/c0/e2dceed68058f8f54d062eac96c3fb60fa3564838dfc3fdbb6680c9ec75e/botocore-1.18.3-py2.py3-none-any.whl (6.6MB)\n",
            "\u001b[K     |████████████████████████████████| 6.6MB 30.8MB/s \n",
            "\u001b[?25hRequirement already satisfied: six>=1.5 in /usr/local/lib/python3.6/dist-packages (from python-dateutil>=2.6.1->pandas->-r requirements.txt (line 1)) (1.15.0)\n",
            "Requirement already satisfied: pyasn1>=0.1.3 in /usr/local/lib/python3.6/dist-packages (from rsa<=4.5.0,>=3.1.2; python_version != \"3.4\"->awscli->-r requirements.txt (line 3)) (0.4.8)\n",
            "Requirement already satisfied: jmespath<1.0.0,>=0.7.1 in /usr/local/lib/python3.6/dist-packages (from botocore==1.18.3->awscli->-r requirements.txt (line 3)) (0.10.0)\n",
            "\u001b[31mERROR: boto3 1.14.63 has requirement botocore<1.18.0,>=1.17.63, but you'll have botocore 1.18.3 which is incompatible.\u001b[0m\n",
            "Installing collected packages: colorama, rsa, botocore, awscli\n",
            "  Found existing installation: rsa 4.6\n",
            "    Uninstalling rsa-4.6:\n",
            "      Successfully uninstalled rsa-4.6\n",
            "  Found existing installation: botocore 1.17.63\n",
            "    Uninstalling botocore-1.17.63:\n",
            "      Successfully uninstalled botocore-1.17.63\n",
            "Successfully installed awscli-1.18.144 botocore-1.18.3 colorama-0.4.3 rsa-4.5\n"
          ],
          "name": "stdout"
        }
      ]
    },
    {
      "cell_type": "markdown",
      "metadata": {
        "id": "vOTYwK8W8UZ6"
      },
      "source": [
        "Obs: pode ignorar a mensagem `WARNING: The following packages were previously imported in this runtime` (caso ela apareça)"
      ]
    },
    {
      "cell_type": "markdown",
      "metadata": {
        "id": "At8ek4zlZIyT"
      },
      "source": [
        "## Etapa 4 - Fazendo o download das imagens"
      ]
    },
    {
      "cell_type": "markdown",
      "metadata": {
        "id": "DmGzBS8P2je8"
      },
      "source": [
        "### Conjunto de imagens de Treinamento"
      ]
    },
    {
      "cell_type": "markdown",
      "metadata": {
        "id": "ar_MmXbjZSgG"
      },
      "source": [
        "Após escolher todas as classes que serão baixadas ([Explore o Dataset AQUI](https://storage.googleapis.com/openimages/web/index.html)) vamos fazer o download das imagens utilizando o comando abaixo. \n",
        "\n",
        "Podemos aproveitar para baixar as imagens todas em uma só pasta, para economizar um pouco de tempo nas etapas seguintes, para isso vamos adicionar o parâmetro **--multiclasses 1** em nosso comando"
      ]
    },
    {
      "cell_type": "markdown",
      "metadata": {
        "id": "dRqQGRsiBUQZ"
      },
      "source": [
        "**Obs:** na primeira vez que executar o comando abaixo precisa digitar \"Y\" para os dois campos que vão aparecer ao executar. \n",
        "\n",
        "**Obs2:** caso o nome da classe possua espaço então precisa colocar `_` no lugar do espaço. Exemplo: *Coffee_Cup*\n"
      ]
    },
    {
      "cell_type": "code",
      "metadata": {
        "id": "PYKElZwv-DCy",
        "outputId": "2b962723-c30d-437b-f348-551a2296fb6a",
        "colab": {
          "base_uri": "https://localhost:8080/",
          "height": 1000
        }
      },
      "source": [
        "!python main.py downloader --classes Apple Coffee_cup Horse --type_csv train --limit 2000 --multiclasses 1"
      ],
      "execution_count": null,
      "outputs": [
        {
          "output_type": "stream",
          "text": [
            "\u001b[92m\n",
            "\t\t   ___   _____  ______            _    _    \n",
            "\t\t .'   `.|_   _||_   _ `.         | |  | |   \n",
            "\t\t/  .-.  \\ | |    | | `. \\ _   __ | |__| |_  \n",
            "\t\t| |   | | | |    | |  | |[ \\ [  ]|____   _| \n",
            "\t\t\\  `-'  /_| |_  _| |_.' / \\ \\/ /     _| |_  \n",
            "\t\t `.___.'|_____||______.'   \\__/     |_____|\n",
            "\t\u001b[0m\n",
            "\u001b[92m\n",
            "             _____                    _                 _             \n",
            "            (____ \\                  | |               | |            \n",
            "             _   \\ \\ ___  _ _ _ ____ | | ___   ____  _ | | ____  ____ \n",
            "            | |   | / _ \\| | | |  _ \\| |/ _ \\ / _  |/ || |/ _  )/ ___)\n",
            "            | |__/ / |_| | | | | | | | | |_| ( ( | ( (_| ( (/ /| |    \n",
            "            |_____/ \\___/ \\____|_| |_|_|\\___/ \\_||_|\\____|\\____)_|    \n",
            "                                                          \n",
            "        \u001b[0m\n",
            "    [INFO] | Downloading ['Apple', 'Coffee cup', 'Horse'] together.\u001b[0m\n",
            "\u001b[91m   [ERROR] | Missing the class-descriptions-boxable.csv file.\u001b[0m\n",
            "\u001b[94m[DOWNLOAD] | Do you want to download the missing file? [Y/n] \u001b[0mY\n",
            "...145%, 0 MB, 39266 KB/s, 0 seconds passed\n",
            "\u001b[94m[DOWNLOAD] | File class-descriptions-boxable.csv downloaded into OID/csv_folder/class-descriptions-boxable.csv.\u001b[0m\n",
            "\u001b[91m   [ERROR] | Missing the train-annotations-bbox.csv file.\u001b[0m\n",
            "\u001b[94m[DOWNLOAD] | Do you want to download the missing file? [Y/n] \u001b[0mY\n",
            "...100%, 1138 MB, 34720 KB/s, 33 seconds passed\n",
            "\u001b[94m[DOWNLOAD] | File train-annotations-bbox.csv downloaded into OID/csv_folder/train-annotations-bbox.csv.\u001b[0m\n",
            "\n",
            "\u001b[95mApple\u001b[0m\n",
            "    [INFO] | Downloading train images.\u001b[0m\n",
            "    [INFO] | [INFO] Found 1078 online images for train.\u001b[0m\n",
            "    [INFO] | Limiting to 200 images.\u001b[0m\n",
            "    [INFO] | Download of 200 images in train.\u001b[0m\n",
            "100% 200/200 [01:59<00:00,  1.68it/s]\n",
            "    [INFO] | Done!\u001b[0m\n",
            "    [INFO] | Creating labels for Apple of train.\u001b[0m\n",
            "    [INFO] | Labels creation completed.\u001b[0m\n",
            "\n",
            "\u001b[95mCoffee cup\u001b[0m\n",
            "    [INFO] | Downloading train images.\u001b[0m\n",
            "    [INFO] | [INFO] Found 3793 online images for train.\u001b[0m\n",
            "    [INFO] | Limiting to 200 images.\u001b[0m\n",
            "    [INFO] | Download of 200 images in train.\u001b[0m\n",
            "100% 200/200 [02:01<00:00,  1.65it/s]\n",
            "    [INFO] | Done!\u001b[0m\n",
            "    [INFO] | Creating labels for Coffee cup of train.\u001b[0m\n",
            "    [INFO] | Labels creation completed.\u001b[0m\n",
            "\n",
            "\u001b[95mHorse\u001b[0m\n",
            "    [INFO] | Downloading train images.\u001b[0m\n",
            "    [INFO] | [INFO] Found 7073 online images for train.\u001b[0m\n",
            "    [INFO] | Limiting to 200 images.\u001b[0m\n",
            "    [INFO] | Download of 200 images in train.\u001b[0m\n",
            "100% 200/200 [01:54<00:00,  1.75it/s]\n",
            "    [INFO] | Done!\u001b[0m\n",
            "    [INFO] | Creating labels for Horse of train.\u001b[0m\n",
            "    [INFO] | Labels creation completed.\u001b[0m\n"
          ],
          "name": "stdout"
        }
      ]
    },
    {
      "cell_type": "markdown",
      "metadata": {
        "id": "_MFHhExOu5r0"
      },
      "source": [
        "Pode demorar para terminar dependendo da quantidade de imagens que você definiu para baixar para cada classe. \n",
        "\n",
        "Se você quiser fazer o download das imagens em seu computador ao invés do Colab então pode fazer utilizando os mesmo comandos acima."
      ]
    },
    {
      "cell_type": "markdown",
      "metadata": {
        "id": "kPx2xPlW24IX"
      },
      "source": [
        "### Conjunto de imagens de Validação\n",
        "\n",
        "Ter um conjunto de validação não é essencial para o treinamento com YOLO porém é recomendado. Um conjunto de validação permite testarmos de forma apropriada o detector treinado. Há muitos casos onde o número de imagens disponíveis é limitado, portanto aconselha-se a utilizar tudo para o treinamento. Veremos mais para frente como você não precisa criar um set de validação para treinar usando o darknet e YOLO.\n",
        "\n",
        "O OIDv4_Toolkit possui imagens separadas para validação para cada uma das categorias, portanto podemos aproveitar disso para obter as imagens (só lembrando que elas precisam ser diferentes da de treinamento).\n",
        "\n",
        "A recomendação é que o dataset de validação tenha mais ou menos entre 20% e 30% do tamanho do dataset de treinamento. Então como nesse exemplo estamos baixando 2000 imagens de cada classe iremos definir `--limit` = 400. "
      ]
    },
    {
      "cell_type": "code",
      "metadata": {
        "id": "avtF_SVc5NUK",
        "outputId": "ae9d589e-65a1-4e4e-bf9a-40c0d9f97670",
        "colab": {
          "base_uri": "https://localhost:8080/",
          "height": 932
        }
      },
      "source": [
        "!python main.py downloader --classes Apple Coffee_cup Horse --type_csv validation --limit 400 --multiclasses 1"
      ],
      "execution_count": null,
      "outputs": [
        {
          "output_type": "stream",
          "text": [
            "\u001b[92m\n",
            "\t\t   ___   _____  ______            _    _    \n",
            "\t\t .'   `.|_   _||_   _ `.         | |  | |   \n",
            "\t\t/  .-.  \\ | |    | | `. \\ _   __ | |__| |_  \n",
            "\t\t| |   | | | |    | |  | |[ \\ [  ]|____   _| \n",
            "\t\t\\  `-'  /_| |_  _| |_.' / \\ \\/ /     _| |_  \n",
            "\t\t `.___.'|_____||______.'   \\__/     |_____|\n",
            "\t\u001b[0m\n",
            "\u001b[92m\n",
            "             _____                    _                 _             \n",
            "            (____ \\                  | |               | |            \n",
            "             _   \\ \\ ___  _ _ _ ____ | | ___   ____  _ | | ____  ____ \n",
            "            | |   | / _ \\| | | |  _ \\| |/ _ \\ / _  |/ || |/ _  )/ ___)\n",
            "            | |__/ / |_| | | | | | | | | |_| ( ( | ( (_| ( (/ /| |    \n",
            "            |_____/ \\___/ \\____|_| |_|_|\\___/ \\_||_|\\____|\\____)_|    \n",
            "                                                          \n",
            "        \u001b[0m\n",
            "    [INFO] | Downloading ['Apple', 'Coffee cup', 'Horse'] together.\u001b[0m\n",
            "\u001b[91m   [ERROR] | Missing the validation-annotations-bbox.csv file.\u001b[0m\n",
            "\u001b[94m[DOWNLOAD] | Do you want to download the missing file? [Y/n] \u001b[0mY\n",
            "...100%, 16 MB, 48332 KB/s, 0 seconds passed\n",
            "\u001b[94m[DOWNLOAD] | File validation-annotations-bbox.csv downloaded into OID/csv_folder/validation-annotations-bbox.csv.\u001b[0m\n",
            "\n",
            "\u001b[95mApple\u001b[0m\n",
            "    [INFO] | Downloading validation images.\u001b[0m\n",
            "    [INFO] | [INFO] Found 46 online images for validation.\u001b[0m\n",
            "    [INFO] | Limiting to 400 images.\u001b[0m\n",
            "    [INFO] | Download of 46 images in validation.\u001b[0m\n",
            "100% 46/46 [00:38<00:00,  1.19it/s]\n",
            "    [INFO] | Done!\u001b[0m\n",
            "    [INFO] | Creating labels for Apple of validation.\u001b[0m\n",
            "    [INFO] | Labels creation completed.\u001b[0m\n",
            "\n",
            "\u001b[95mCoffee cup\u001b[0m\n",
            "    [INFO] | Downloading validation images.\u001b[0m\n",
            "    [INFO] | [INFO] Found 129 online images for validation.\u001b[0m\n",
            "    [INFO] | Limiting to 400 images.\u001b[0m\n",
            "    [INFO] | Download of 129 images in validation.\u001b[0m\n",
            "100% 129/129 [01:28<00:00,  1.45it/s]\n",
            "    [INFO] | Done!\u001b[0m\n",
            "    [INFO] | Creating labels for Coffee cup of validation.\u001b[0m\n",
            "    [INFO] | Labels creation completed.\u001b[0m\n",
            "\n",
            "\u001b[95mHorse\u001b[0m\n",
            "    [INFO] | Downloading validation images.\u001b[0m\n",
            "    [INFO] | [INFO] Found 268 online images for validation.\u001b[0m\n",
            "    [INFO] | Limiting to 400 images.\u001b[0m\n",
            "    [INFO] | Download of 268 images in validation.\u001b[0m\n",
            "100% 268/268 [02:53<00:00,  1.55it/s]\n",
            "    [INFO] | Done!\u001b[0m\n",
            "    [INFO] | Creating labels for Horse of validation.\u001b[0m\n",
            "    [INFO] | Labels creation completed.\u001b[0m\n"
          ],
          "name": "stdout"
        }
      ]
    },
    {
      "cell_type": "markdown",
      "metadata": {
        "id": "dgyAnmnWS11X"
      },
      "source": [
        "Pode acontecer de não ter o número suficiente de imagens que você informou, nesse caso ele vai baixar todas as imagens que tem disponível para aquela classe/tipo (treinamento ou validação)"
      ]
    },
    {
      "cell_type": "markdown",
      "metadata": {
        "id": "qV818C8StBBB"
      },
      "source": [
        "## Etapa 5 - Convertendo os arquivos de anotação\n",
        "Após terminar de baixar todas as imagens, precisamos converter os arquivos de anotação para o formato suportado pelo YOLO.\n",
        "\n",
        "Para realizar a conversão é necessário 3 coisas: "
      ]
    },
    {
      "cell_type": "markdown",
      "metadata": {
        "id": "INFDGAt7u2GX"
      },
      "source": [
        "### 1. Colocar as classes no arquivo classes.txt\n",
        "Abra o arquivo classes.txt e modifique o conteúdo para colocar as classes que baixamos, escrevendo de modo que fique uma classe por linha. Não é necessário deixar os nomes em alguma ordem, mas de preferência deixe na ordem alfabética. "
      ]
    },
    {
      "cell_type": "code",
      "metadata": {
        "id": "Mq6eiMc-wX4H",
        "outputId": "6e49a4b8-e49b-4dd2-aca8-6159836bedf2",
        "colab": {
          "base_uri": "https://localhost:8080/",
          "height": 70
        }
      },
      "source": [
        "!cat classes.txt"
      ],
      "execution_count": null,
      "outputs": [
        {
          "output_type": "stream",
          "text": [
            "Apple\n",
            "Orange\n",
            "Light switch\n"
          ],
          "name": "stdout"
        }
      ]
    },
    {
      "cell_type": "markdown",
      "metadata": {
        "id": "Sf27LgQB3URu"
      },
      "source": [
        "Podemos editar o txt de duas formas. A primeira é baixar o arquivo, modificá-lo em um editor de texto, salvar e depois enviar para a pasta atual (substituindo o classes.txt atual).\n",
        "A outra forma é substituir o conteúdo do arquivo usando o comando `echo`, conforme abaixo"
      ]
    },
    {
      "cell_type": "markdown",
      "metadata": {
        "id": "qbggPFDs4K43"
      },
      "source": [
        "* Substitua o que está dentro de aspas pelas classes que você baixou e quer treinar. Os nomes precisam estar separados por \\n (usado para indicar que deve pular a linha), sem espaço antes ou depois (ficando apenas o espaço no próprio nome da classe, caso o nome tenha mais de uma palavra). \n",
        "Ex: `Classe\\nClasse dois` "
      ]
    },
    {
      "cell_type": "code",
      "metadata": {
        "id": "m07FLpo1ChSb"
      },
      "source": [
        "!echo -e \"Apple\\nCoffee cup\\nHorse\" > classes.txt"
      ],
      "execution_count": null,
      "outputs": []
    },
    {
      "cell_type": "code",
      "metadata": {
        "id": "eR-dLAla2Qr7",
        "outputId": "82f9d536-618d-4691-86a0-579704cf1980",
        "colab": {
          "base_uri": "https://localhost:8080/",
          "height": 70
        }
      },
      "source": [
        "!cat classes.txt"
      ],
      "execution_count": null,
      "outputs": [
        {
          "output_type": "stream",
          "text": [
            "Apple\n",
            "Coffee cup\n",
            "Horse\n"
          ],
          "name": "stdout"
        }
      ]
    },
    {
      "cell_type": "markdown",
      "metadata": {
        "id": "aW6TXFjTwUVr"
      },
      "source": [
        "Como podemos ver, usando o comando `cat`, o conteúdo do classes.txt foi modificado para conter os nomes das classes que queremos treinar."
      ]
    },
    {
      "cell_type": "markdown",
      "metadata": {
        "id": "s2JDmfEbuOHH"
      },
      "source": [
        "### 2. Baixar o arquivo converter_annotations.py e adicione-o ao diretório\n",
        "\n",
        "Primeiro, vamos conectar ao Google Drive, que é onde está o arquivo de conversão `converter_annotations.py`"
      ]
    },
    {
      "cell_type": "code",
      "metadata": {
        "id": "QzYlLmL1VsI8",
        "outputId": "43852a5d-25f8-43a2-9823-83a0c8e8008c",
        "colab": {
          "base_uri": "https://localhost:8080/",
          "height": 34
        }
      },
      "source": [
        "from google.colab import drive\n",
        "drive.mount('/content/gdrive')"
      ],
      "execution_count": null,
      "outputs": [
        {
          "output_type": "stream",
          "text": [
            "Mounted at /content/gdrive\n"
          ],
          "name": "stdout"
        }
      ]
    },
    {
      "cell_type": "markdown",
      "metadata": {
        "id": "CYu9wImZbcZz"
      },
      "source": [
        "Para facilitar o acesso vamos criar um link simbolico (symbolic link) entre '/content/gdrive/My\\ Drive/' e '/mydrive. Isso significa que estamos criando um atalho '/mydrive' para mapear os conteúdos dentro do Google Drive. \n",
        "Fazemos isso pois, além de ficar um comando mais curto, o espaço em 'my Drive' pode causar erros em certos comandos, portanto o link simbolico além de encurtar o comando vai impedir que isso aconteça. "
      ]
    },
    {
      "cell_type": "code",
      "metadata": {
        "id": "PSOJuJvT1s4M",
        "outputId": "50396664-d79f-4e8b-8f30-6112ddd6ea4b",
        "colab": {
          "base_uri": "https://localhost:8080/",
          "height": 52
        }
      },
      "source": [
        "ls"
      ],
      "execution_count": null,
      "outputs": [
        {
          "output_type": "stream",
          "text": [
            "classes.txt  LICENSE  \u001b[0m\u001b[01;34mmodules\u001b[0m/  README.md\n",
            "\u001b[01;34mimages\u001b[0m/      main.py  \u001b[01;34mOID\u001b[0m/      requirements.txt\n"
          ],
          "name": "stdout"
        }
      ]
    },
    {
      "cell_type": "code",
      "metadata": {
        "id": "5jOLKsqKZhxG"
      },
      "source": [
        "# link simbolico \n",
        "!ln -s /content/gdrive/My\\ Drive/ /mydrive"
      ],
      "execution_count": null,
      "outputs": []
    },
    {
      "cell_type": "markdown",
      "metadata": {
        "id": "da-q1ClLZBGm"
      },
      "source": [
        "Criar o link simbólico é opcional. Caso não queira (ou dê algum erro ao criar) basta substituir essa parte nos comandos, onde tiver `/mydrive/` substitua por `/content/gdrive/My\\ Drive/`"
      ]
    },
    {
      "cell_type": "code",
      "metadata": {
        "id": "jThi-QHjZ5CQ"
      },
      "source": [
        "!ls /mydrive/Cursos/YOLO\n",
        "!ls /content/gdrive/My\\ Drive/Cursos/YOLO"
      ],
      "execution_count": null,
      "outputs": []
    },
    {
      "cell_type": "markdown",
      "metadata": {
        "id": "BSGofcl1Op7W"
      },
      "source": [
        "Em seguida, vamos extrair o arquivo MaterialYOLO.zip, que contém os scripts que iremos precisar (se preferir, você pode fazer o upload desse zip diretamente na VM do Colab, sem precisar enviar pro Drive e copiar de lá, porém recomendamos dessa primeira maneira por ser muito mais prática, assim pode automatizar essa parte)"
      ]
    },
    {
      "cell_type": "code",
      "metadata": {
        "id": "iulYvy2BPe4R"
      },
      "source": [
        "!unzip /mydrive/Cursos/YOLO/MaterialYOLO -d /content/\n",
        "!ls /content/"
      ],
      "execution_count": null,
      "outputs": []
    },
    {
      "cell_type": "markdown",
      "metadata": {
        "id": "mwGfOHIWA2DX"
      },
      "source": [
        "Agora vamos copiar o arquivo de conversão para o diretório atual `(/content/OIDv4_ToolKit)`"
      ]
    },
    {
      "cell_type": "code",
      "metadata": {
        "id": "NrzNz7MaaZae"
      },
      "source": [
        "!cp /content/converter_annotations.py ./"
      ],
      "execution_count": null,
      "outputs": []
    },
    {
      "cell_type": "markdown",
      "metadata": {
        "id": "ll5d8wUOuklN"
      },
      "source": [
        "### 3. Executar o arquivo de conversão\n",
        "\n"
      ]
    },
    {
      "cell_type": "markdown",
      "metadata": {
        "id": "IJeLDD9EBI-2"
      },
      "source": [
        "Por fim, vamos executar o arquivo que realiza a conversão"
      ]
    },
    {
      "cell_type": "code",
      "metadata": {
        "id": "HJMyMwbOurY5",
        "outputId": "b6797f12-f670-40c2-f1ae-dcc4dc62bf80",
        "colab": {
          "base_uri": "https://localhost:8080/",
          "height": 122
        }
      },
      "source": [
        "!python converter_annotations.py"
      ],
      "execution_count": null,
      "outputs": [
        {
          "output_type": "stream",
          "text": [
            "Subdiretorio atual: train\n",
            "Convertendo os annotations para a classe:  Apple_Coffee cup_Horse\n",
            "100% 600/600 [00:21<00:00, 27.38it/s]\n",
            "Subdiretorio atual: validation\n",
            "Convertendo os annotations para a classe:  Apple_Coffee cup_Horse\n",
            "100% 443/443 [00:10<00:00, 41.73it/s]\n"
          ],
          "name": "stdout"
        }
      ]
    },
    {
      "cell_type": "markdown",
      "metadata": {
        "id": "917MlTGGfEOj"
      },
      "source": [
        "## Etapa 6 - Compactar o dataset \n",
        "Agora que temos o nosso dataset praticamente pronto só resta compactar todos os arquivos em um arquivo .zip para facilitar a transferência. \n",
        "Nós podemos baixar diretamente o arquivo da máquina virtual do Colab ou salvar esse arquivo .zip diretamente no Google Drive (que é o mais recomendado por ser mais rápido)."
      ]
    },
    {
      "cell_type": "markdown",
      "metadata": {
        "id": "d92sOWtSPq3A"
      },
      "source": [
        "Antes vamos renomear para \"`obj`\" o nome do diretorio que foi criado dentro de train, que contém as imagens baixadas dos objetos.  "
      ]
    },
    {
      "cell_type": "markdown",
      "metadata": {
        "id": "5-xCVifSO-bv"
      },
      "source": [
        "![image.png](data:image/png;base64,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)"
      ]
    },
    {
      "cell_type": "code",
      "metadata": {
        "id": "k3TAhXJz612q"
      },
      "source": [
        "%cd OID/Dataset/train/\n",
        "!zip -r ../../../../obj.zip obj -x obj/Label/*"
      ],
      "execution_count": null,
      "outputs": []
    },
    {
      "cell_type": "markdown",
      "metadata": {
        "id": "CniXxuWidkOv"
      },
      "source": [
        "(o parâmetro ` -x objetos/Label/*` faz com que o comando ignore a pasta Label. Não vamos precisar incluir ela porque depois que o arquivo de conversão foi executado os arquivos de anotação .txt agora estão juntos com as imagens)"
      ]
    },
    {
      "cell_type": "code",
      "metadata": {
        "id": "OnAUEJmx7tRw",
        "outputId": "f7e8b553-c52d-4632-c79e-c2f16904eae9",
        "colab": {
          "base_uri": "https://localhost:8080/",
          "height": 70
        }
      },
      "source": [
        "# voltando para o diretório principal\n",
        "%cd ../../../../\n",
        "!ls"
      ],
      "execution_count": null,
      "outputs": [
        {
          "output_type": "stream",
          "text": [
            "/content\n",
            "converter_annotations.py  gerar_test.py   imgs_testes  OIDv4_ToolKit\n",
            "gdrive\t\t\t  gerar_train.py  obj.zip      sample_data\n"
          ],
          "name": "stdout"
        }
      ]
    },
    {
      "cell_type": "markdown",
      "metadata": {
        "id": "MmORJg77qDn7"
      },
      "source": [
        "Execute o código abaixo para salvar o nosso dataset (.zip) no Google Drive. Iremos salvar dentro da pasta `treinamento`, que criamos dentro do diretório principal onde estamos salvando os arquivos do curso."
      ]
    },
    {
      "cell_type": "code",
      "metadata": {
        "id": "GNcNGo6mpYl4"
      },
      "source": [
        "!cp ./obj.zip /mydrive/Cursos/YOLO/treinamento"
      ],
      "execution_count": null,
      "outputs": []
    },
    {
      "cell_type": "markdown",
      "metadata": {
        "id": "RuW4AoluqMww"
      },
      "source": [
        "Se você não quiser salvar no Google Drive (ou caso não tenha mais espaço disponível lá, por exemplo) você pode fazer o download do arquivo (pelo painel lateral esquerdo) clicando com o botão direito e selecionando \"Download\" (porém pode ser mais demorado pois o arquivo tende a ser pesado, principalmente se tiver mais de 2000 imagens no total)"
      ]
    },
    {
      "cell_type": "code",
      "metadata": {
        "id": "qnP6aPYupZTY"
      },
      "source": [
        "ls /mydrive/Cursos/YOLO/treinamento"
      ],
      "execution_count": null,
      "outputs": []
    },
    {
      "cell_type": "markdown",
      "metadata": {
        "id": "JiqbU-j8G9Nb"
      },
      "source": [
        "Caso você esteja fazendo também o set de validação então repita esses procedimentos acima, mas agora renomeie a pasta (dentro de `OID/Dataset/validation/`) para \"valid\"."
      ]
    },
    {
      "cell_type": "code",
      "metadata": {
        "id": "Qg_1O9pEHJ3y"
      },
      "source": [
        "# ir até o diretório com as imagens de validação e compactar\n",
        "%cd OIDv4_ToolKit/OID/Dataset/validation/\n",
        "!zip -r ../../../../valid.zip valid -x valid/Label/*\n",
        "\n",
        "# voltando para o diretório principal\n",
        "%cd ../../../../"
      ],
      "execution_count": null,
      "outputs": []
    },
    {
      "cell_type": "code",
      "metadata": {
        "id": "9FZm_W8LKD7n",
        "outputId": "da14cd45-10e7-4076-f460-7eb011eaae37",
        "colab": {
          "base_uri": "https://localhost:8080/",
          "height": 70
        }
      },
      "source": [
        "ls"
      ],
      "execution_count": null,
      "outputs": [
        {
          "output_type": "stream",
          "text": [
            "converter_annotations.py  gerar_train.py  \u001b[0m\u001b[01;34mOIDv4_ToolKit\u001b[0m/\n",
            "\u001b[01;34mgdrive\u001b[0m/                   \u001b[01;34mimgs_testes\u001b[0m/    \u001b[01;34msample_data\u001b[0m/\n",
            "gerar_test.py             obj.zip         valid.zip\n"
          ],
          "name": "stdout"
        }
      ]
    },
    {
      "cell_type": "markdown",
      "metadata": {
        "id": "Z936T7S7Hy1E"
      },
      "source": [
        "E para salvar no Google Drive:"
      ]
    },
    {
      "cell_type": "code",
      "metadata": {
        "id": "AwTviBpFH2ER"
      },
      "source": [
        "!cp ./valid.zip /mydrive/Cursos/YOLO/treinamento"
      ],
      "execution_count": null,
      "outputs": []
    },
    {
      "cell_type": "markdown",
      "metadata": {
        "id": "ve4pgC1vcF7i"
      },
      "source": [
        "# Editando os arquivos de configuração necessários para o treinamento"
      ]
    },
    {
      "cell_type": "markdown",
      "metadata": {
        "id": "bTKOeuHXc6Ed"
      },
      "source": [
        "Agora que fizemos o download das imagens e compactamos em um arquivo zip, vamos configurar os arquivos que contém as configurações necessárias para realizar o treinamento do modelo.\n",
        "\n",
        "Para isso vamos baixar o repositório darknet, que contém esses arquivos que precisamos modificar. Antes só verifique se o diretório atual é o principal (`/content`)"
      ]
    },
    {
      "cell_type": "code",
      "metadata": {
        "id": "heq3Z3A3KwRb",
        "outputId": "35b00624-f930-4e9c-a655-a34c31d56e6a",
        "colab": {
          "base_uri": "https://localhost:8080/",
          "height": 35
        }
      },
      "source": [
        "pwd"
      ],
      "execution_count": null,
      "outputs": [
        {
          "output_type": "execute_result",
          "data": {
            "application/vnd.google.colaboratory.intrinsic+json": {
              "type": "string"
            },
            "text/plain": [
              "'/content'"
            ]
          },
          "metadata": {
            "tags": []
          },
          "execution_count": 34
        }
      ]
    },
    {
      "cell_type": "code",
      "metadata": {
        "id": "n7d_KB8etULp",
        "outputId": "8eab1f49-f422-4dd2-c585-02b964ccb8e2",
        "colab": {
          "base_uri": "https://localhost:8080/",
          "height": 105
        }
      },
      "source": [
        "!git clone https://github.com/AlexeyAB/darknet"
      ],
      "execution_count": null,
      "outputs": [
        {
          "output_type": "stream",
          "text": [
            "Cloning into 'darknet'...\n",
            "remote: Enumerating objects: 14309, done.\u001b[K\n",
            "remote: Total 14309 (delta 0), reused 0 (delta 0), pack-reused 14309\u001b[K\n",
            "Receiving objects: 100% (14309/14309), 12.85 MiB | 19.26 MiB/s, done.\n",
            "Resolving deltas: 100% (9763/9763), done.\n"
          ],
          "name": "stdout"
        }
      ]
    },
    {
      "cell_type": "code",
      "metadata": {
        "id": "VjqQpQ1iy4nK",
        "outputId": "4b42d42c-decf-4fb6-9f98-203c2089a2b1",
        "colab": {
          "base_uri": "https://localhost:8080/",
          "height": 70
        }
      },
      "source": [
        "ls"
      ],
      "execution_count": null,
      "outputs": [
        {
          "output_type": "stream",
          "text": [
            "converter_annotations.py  gerar_test.py   obj.zip         valid.zip\n",
            "\u001b[0m\u001b[01;34mdarknet\u001b[0m/                  gerar_train.py  \u001b[01;34mOIDv4_ToolKit\u001b[0m/\n",
            "\u001b[01;34mgdrive\u001b[0m/                   \u001b[01;34mimgs_testes\u001b[0m/    \u001b[01;34msample_data\u001b[0m/\n"
          ],
          "name": "stdout"
        }
      ]
    },
    {
      "cell_type": "code",
      "metadata": {
        "id": "ABXi-DHkUcQ8",
        "outputId": "ce43c952-ea9c-4e19-a20c-c27d82bc48db",
        "colab": {
          "base_uri": "https://localhost:8080/",
          "height": 34
        }
      },
      "source": [
        "%cd darknet"
      ],
      "execution_count": null,
      "outputs": [
        {
          "output_type": "stream",
          "text": [
            "/content/darknet\n"
          ],
          "name": "stdout"
        }
      ]
    },
    {
      "cell_type": "markdown",
      "metadata": {
        "id": "4U9inAAYdYVA"
      },
      "source": [
        "`Obs: aqui não iremos mudar o makefile para ativar as opções para GPU e OPENCV já que nesse arquivo não estaremos fazendo o treinamento ou vários testes (apenas uma detecção de teste)`"
      ]
    },
    {
      "cell_type": "markdown",
      "metadata": {
        "id": "uevUzuGuiEQ8"
      },
      "source": [
        "Build no Darknet: "
      ]
    },
    {
      "cell_type": "code",
      "metadata": {
        "id": "Meq21FLz3gJA",
        "outputId": "2a268778-a3c3-4168-9bfc-38bef91540c5",
        "colab": {
          "base_uri": "https://localhost:8080/",
          "height": 1000
        }
      },
      "source": [
        "!make"
      ],
      "execution_count": null,
      "outputs": [
        {
          "output_type": "stream",
          "text": [
            "mkdir -p ./obj/\n",
            "mkdir -p backup\n",
            "chmod +x *.sh\n",
            "g++ -std=c++11 -std=c++11 -Iinclude/ -I3rdparty/stb/include -Wall -Wfatal-errors -Wno-unused-result -Wno-unknown-pragmas -fPIC -Ofast -c ./src/image_opencv.cpp -o obj/image_opencv.o\n",
            "g++ -std=c++11 -std=c++11 -Iinclude/ -I3rdparty/stb/include -Wall -Wfatal-errors -Wno-unused-result -Wno-unknown-pragmas -fPIC -Ofast -c ./src/http_stream.cpp -o obj/http_stream.o\n",
            "\u001b[01m\u001b[K./src/http_stream.cpp:\u001b[m\u001b[K In member function ‘\u001b[01m\u001b[Kbool JSON_sender::write(const char*)\u001b[m\u001b[K’:\n",
            "\u001b[01m\u001b[K./src/http_stream.cpp:249:21:\u001b[m\u001b[K \u001b[01;35m\u001b[Kwarning: \u001b[m\u001b[Kunused variable ‘\u001b[01m\u001b[Kn\u001b[m\u001b[K’ [\u001b[01;35m\u001b[K-Wunused-variable\u001b[m\u001b[K]\n",
            "                 int \u001b[01;35m\u001b[Kn\u001b[m\u001b[K = _write(client, outputbuf, outlen);\n",
            "                     \u001b[01;35m\u001b[K^\u001b[m\u001b[K\n",
            "\u001b[01m\u001b[K./src/http_stream.cpp:\u001b[m\u001b[K In function ‘\u001b[01m\u001b[Kvoid set_track_id(detection*, int, float, float, float, int, int, int)\u001b[m\u001b[K’:\n",
            "\u001b[01m\u001b[K./src/http_stream.cpp:845:27:\u001b[m\u001b[K \u001b[01;35m\u001b[Kwarning: \u001b[m\u001b[Kcomparison between signed and unsigned integer expressions [\u001b[01;35m\u001b[K-Wsign-compare\u001b[m\u001b[K]\n",
            "         for (int i = 0; \u001b[01;35m\u001b[Ki < v.size()\u001b[m\u001b[K; ++i) {\n",
            "                         \u001b[01;35m\u001b[K~~^~~~~~~~~~\u001b[m\u001b[K\n",
            "\u001b[01m\u001b[K./src/http_stream.cpp:853:33:\u001b[m\u001b[K \u001b[01;35m\u001b[Kwarning: \u001b[m\u001b[Kcomparison between signed and unsigned integer expressions [\u001b[01;35m\u001b[K-Wsign-compare\u001b[m\u001b[K]\n",
            "     for (int old_id = 0; \u001b[01;35m\u001b[Kold_id < old_dets.size()\u001b[m\u001b[K; ++old_id) {\n",
            "                          \u001b[01;35m\u001b[K~~~~~~~^~~~~~~~~~~~~~~~~\u001b[m\u001b[K\n",
            "\u001b[01m\u001b[K./src/http_stream.cpp:873:31:\u001b[m\u001b[K \u001b[01;35m\u001b[Kwarning: \u001b[m\u001b[Kcomparison between signed and unsigned integer expressions [\u001b[01;35m\u001b[K-Wsign-compare\u001b[m\u001b[K]\n",
            "     for (int index = 0; \u001b[01;35m\u001b[Kindex < new_dets_num*old_dets.size()\u001b[m\u001b[K; ++index) {\n",
            "                         \u001b[01;35m\u001b[K~~~~~~^~~~~~~~~~~~~~~~~~~~~~~~~~~~~~\u001b[m\u001b[K\n",
            "\u001b[01m\u001b[K./src/http_stream.cpp:908:28:\u001b[m\u001b[K \u001b[01;35m\u001b[Kwarning: \u001b[m\u001b[Kcomparison between signed and unsigned integer expressions [\u001b[01;35m\u001b[K-Wsign-compare\u001b[m\u001b[K]\n",
            "     if (\u001b[01;35m\u001b[Kold_dets_dq.size() > deque_size\u001b[m\u001b[K) old_dets_dq.pop_front();\n",
            "         \u001b[01;35m\u001b[K~~~~~~~~~~~~~~~~~~~^~~~~~~~~~~~\u001b[m\u001b[K\n",
            "gcc -Iinclude/ -I3rdparty/stb/include -Wall -Wfatal-errors -Wno-unused-result -Wno-unknown-pragmas -fPIC -Ofast -c ./src/gemm.c -o obj/gemm.o\n",
            "\u001b[01m\u001b[K./src/gemm.c:\u001b[m\u001b[K In function ‘\u001b[01m\u001b[Kconvolution_2d\u001b[m\u001b[K’:\n",
            "\u001b[01m\u001b[K./src/gemm.c:2038:15:\u001b[m\u001b[K \u001b[01;35m\u001b[Kwarning: \u001b[m\u001b[Kunused variable ‘\u001b[01m\u001b[Kout_w\u001b[m\u001b[K’ [\u001b[01;35m\u001b[K-Wunused-variable\u001b[m\u001b[K]\n",
            "     const int \u001b[01;35m\u001b[Kout_w\u001b[m\u001b[K = (w + 2 * pad - ksize) / stride + 1;    // output_width=input_width for stride=1 and pad=1\n",
            "               \u001b[01;35m\u001b[K^~~~~\u001b[m\u001b[K\n",
            "\u001b[01m\u001b[K./src/gemm.c:2037:15:\u001b[m\u001b[K \u001b[01;35m\u001b[Kwarning: \u001b[m\u001b[Kunused variable ‘\u001b[01m\u001b[Kout_h\u001b[m\u001b[K’ [\u001b[01;35m\u001b[K-Wunused-variable\u001b[m\u001b[K]\n",
            "     const int \u001b[01;35m\u001b[Kout_h\u001b[m\u001b[K = (h + 2 * pad - ksize) / stride + 1;    // output_height=input_height for stride=1 and pad=1\n",
            "               \u001b[01;35m\u001b[K^~~~~\u001b[m\u001b[K\n",
            "gcc -Iinclude/ -I3rdparty/stb/include -Wall -Wfatal-errors -Wno-unused-result -Wno-unknown-pragmas -fPIC -Ofast -c ./src/utils.c -o obj/utils.o\n",
            "\u001b[01m\u001b[K./src/utils.c:\u001b[m\u001b[K In function ‘\u001b[01m\u001b[Kcustom_hash\u001b[m\u001b[K’:\n",
            "\u001b[01m\u001b[K./src/utils.c:1039:12:\u001b[m\u001b[K \u001b[01;35m\u001b[Kwarning: \u001b[m\u001b[Ksuggest parentheses around assignment used as truth value [\u001b[01;35m\u001b[K-Wparentheses\u001b[m\u001b[K]\n",
            "     while (\u001b[01;35m\u001b[Kc\u001b[m\u001b[K = *str++)\n",
            "            \u001b[01;35m\u001b[K^\u001b[m\u001b[K\n",
            "gcc -Iinclude/ -I3rdparty/stb/include -Wall -Wfatal-errors -Wno-unused-result -Wno-unknown-pragmas -fPIC -Ofast -c ./src/dark_cuda.c -o obj/dark_cuda.o\n",
            "gcc -Iinclude/ -I3rdparty/stb/include -Wall -Wfatal-errors -Wno-unused-result -Wno-unknown-pragmas -fPIC -Ofast -c ./src/convolutional_layer.c -o obj/convolutional_layer.o\n",
            "\u001b[01m\u001b[K./src/convolutional_layer.c:\u001b[m\u001b[K In function ‘\u001b[01m\u001b[Kresize_convolutional_layer\u001b[m\u001b[K’:\n",
            "\u001b[01m\u001b[K./src/convolutional_layer.c:893:9:\u001b[m\u001b[K \u001b[01;35m\u001b[Kwarning: \u001b[m\u001b[Kunused variable ‘\u001b[01m\u001b[Kold_h\u001b[m\u001b[K’ [\u001b[01;35m\u001b[K-Wunused-variable\u001b[m\u001b[K]\n",
            "     int \u001b[01;35m\u001b[Kold_h\u001b[m\u001b[K = l->h;\n",
            "         \u001b[01;35m\u001b[K^~~~~\u001b[m\u001b[K\n",
            "\u001b[01m\u001b[K./src/convolutional_layer.c:892:9:\u001b[m\u001b[K \u001b[01;35m\u001b[Kwarning: \u001b[m\u001b[Kunused variable ‘\u001b[01m\u001b[Kold_w\u001b[m\u001b[K’ [\u001b[01;35m\u001b[K-Wunused-variable\u001b[m\u001b[K]\n",
            "     int \u001b[01;35m\u001b[Kold_w\u001b[m\u001b[K = l->w;\n",
            "         \u001b[01;35m\u001b[K^~~~~\u001b[m\u001b[K\n",
            "\u001b[01m\u001b[K./src/convolutional_layer.c:\u001b[m\u001b[K In function ‘\u001b[01m\u001b[Kforward_convolutional_layer\u001b[m\u001b[K’:\n",
            "\u001b[01m\u001b[K./src/convolutional_layer.c:1337:32:\u001b[m\u001b[K \u001b[01;35m\u001b[Kwarning: \u001b[m\u001b[Kunused variable ‘\u001b[01m\u001b[Kt_intput_size\u001b[m\u001b[K’ [\u001b[01;35m\u001b[K-Wunused-variable\u001b[m\u001b[K]\n",
            "                         size_t \u001b[01;35m\u001b[Kt_intput_size\u001b[m\u001b[K = binary_transpose_align_input(k, n, state.workspace, &l.t_bit_input, ldb_align, l.bit_align);\n",
            "                                \u001b[01;35m\u001b[K^~~~~~~~~~~~~\u001b[m\u001b[K\n",
            "gcc -Iinclude/ -I3rdparty/stb/include -Wall -Wfatal-errors -Wno-unused-result -Wno-unknown-pragmas -fPIC -Ofast -c ./src/list.c -o obj/list.o\n",
            "gcc -Iinclude/ -I3rdparty/stb/include -Wall -Wfatal-errors -Wno-unused-result -Wno-unknown-pragmas -fPIC -Ofast -c ./src/image.c -o obj/image.o\n",
            "gcc -Iinclude/ -I3rdparty/stb/include -Wall -Wfatal-errors -Wno-unused-result -Wno-unknown-pragmas -fPIC -Ofast -c ./src/activations.c -o obj/activations.o\n",
            "\u001b[01m\u001b[K./src/activations.c:\u001b[m\u001b[K In function ‘\u001b[01m\u001b[Kactivate\u001b[m\u001b[K’:\n",
            "\u001b[01m\u001b[K./src/activations.c:79:5:\u001b[m\u001b[K \u001b[01;35m\u001b[Kwarning: \u001b[m\u001b[Kenumeration value ‘\u001b[01m\u001b[KRELU6\u001b[m\u001b[K’ not handled in switch [\u001b[01;35m\u001b[K-Wswitch\u001b[m\u001b[K]\n",
            "     \u001b[01;35m\u001b[Kswitch\u001b[m\u001b[K(a){\n",
            "     \u001b[01;35m\u001b[K^~~~~~\u001b[m\u001b[K\n",
            "\u001b[01m\u001b[K./src/activations.c:79:5:\u001b[m\u001b[K \u001b[01;35m\u001b[Kwarning: \u001b[m\u001b[Kenumeration value ‘\u001b[01m\u001b[KSWISH\u001b[m\u001b[K’ not handled in switch [\u001b[01;35m\u001b[K-Wswitch\u001b[m\u001b[K]\n",
            "\u001b[01m\u001b[K./src/activations.c:79:5:\u001b[m\u001b[K \u001b[01;35m\u001b[Kwarning: \u001b[m\u001b[Kenumeration value ‘\u001b[01m\u001b[KMISH\u001b[m\u001b[K’ not handled in switch [\u001b[01;35m\u001b[K-Wswitch\u001b[m\u001b[K]\n",
            "\u001b[01m\u001b[K./src/activations.c:79:5:\u001b[m\u001b[K \u001b[01;35m\u001b[Kwarning: \u001b[m\u001b[Kenumeration value ‘\u001b[01m\u001b[KHARD_MISH\u001b[m\u001b[K’ not handled in switch [\u001b[01;35m\u001b[K-Wswitch\u001b[m\u001b[K]\n",
            "\u001b[01m\u001b[K./src/activations.c:79:5:\u001b[m\u001b[K \u001b[01;35m\u001b[Kwarning: \u001b[m\u001b[Kenumeration value ‘\u001b[01m\u001b[KNORM_CHAN\u001b[m\u001b[K’ not handled in switch [\u001b[01;35m\u001b[K-Wswitch\u001b[m\u001b[K]\n",
            "\u001b[01m\u001b[K./src/activations.c:79:5:\u001b[m\u001b[K \u001b[01;35m\u001b[Kwarning: \u001b[m\u001b[Kenumeration value ‘\u001b[01m\u001b[KNORM_CHAN_SOFTMAX\u001b[m\u001b[K’ not handled in switch [\u001b[01;35m\u001b[K-Wswitch\u001b[m\u001b[K]\n",
            "\u001b[01m\u001b[K./src/activations.c:79:5:\u001b[m\u001b[K \u001b[01;35m\u001b[Kwarning: \u001b[m\u001b[Kenumeration value ‘\u001b[01m\u001b[KNORM_CHAN_SOFTMAX_MAXVAL\u001b[m\u001b[K’ not handled in switch [\u001b[01;35m\u001b[K-Wswitch\u001b[m\u001b[K]\n",
            "\u001b[01m\u001b[K./src/activations.c:\u001b[m\u001b[K In function ‘\u001b[01m\u001b[Kgradient\u001b[m\u001b[K’:\n",
            "\u001b[01m\u001b[K./src/activations.c:310:5:\u001b[m\u001b[K \u001b[01;35m\u001b[Kwarning: \u001b[m\u001b[Kenumeration value ‘\u001b[01m\u001b[KSWISH\u001b[m\u001b[K’ not handled in switch [\u001b[01;35m\u001b[K-Wswitch\u001b[m\u001b[K]\n",
            "     \u001b[01;35m\u001b[Kswitch\u001b[m\u001b[K(a){\n",
            "     \u001b[01;35m\u001b[K^~~~~~\u001b[m\u001b[K\n",
            "\u001b[01m\u001b[K./src/activations.c:310:5:\u001b[m\u001b[K \u001b[01;35m\u001b[Kwarning: \u001b[m\u001b[Kenumeration value ‘\u001b[01m\u001b[KMISH\u001b[m\u001b[K’ not handled in switch [\u001b[01;35m\u001b[K-Wswitch\u001b[m\u001b[K]\n",
            "\u001b[01m\u001b[K./src/activations.c:310:5:\u001b[m\u001b[K \u001b[01;35m\u001b[Kwarning: \u001b[m\u001b[Kenumeration value ‘\u001b[01m\u001b[KHARD_MISH\u001b[m\u001b[K’ not handled in switch [\u001b[01;35m\u001b[K-Wswitch\u001b[m\u001b[K]\n",
            "gcc -Iinclude/ -I3rdparty/stb/include -Wall -Wfatal-errors -Wno-unused-result -Wno-unknown-pragmas -fPIC -Ofast -c ./src/im2col.c -o obj/im2col.o\n",
            "gcc -Iinclude/ -I3rdparty/stb/include -Wall -Wfatal-errors -Wno-unused-result -Wno-unknown-pragmas -fPIC -Ofast -c ./src/col2im.c -o obj/col2im.o\n",
            "gcc -Iinclude/ -I3rdparty/stb/include -Wall -Wfatal-errors -Wno-unused-result -Wno-unknown-pragmas -fPIC -Ofast -c ./src/blas.c -o obj/blas.o\n",
            "\u001b[01m\u001b[K./src/blas.c:\u001b[m\u001b[K In function ‘\u001b[01m\u001b[Kbackward_shortcut_multilayer_cpu\u001b[m\u001b[K’:\n",
            "\u001b[01m\u001b[K./src/blas.c:207:21:\u001b[m\u001b[K \u001b[01;35m\u001b[Kwarning: \u001b[m\u001b[Kunused variable ‘\u001b[01m\u001b[Kout_index\u001b[m\u001b[K’ [\u001b[01;35m\u001b[K-Wunused-variable\u001b[m\u001b[K]\n",
            "                 int \u001b[01;35m\u001b[Kout_index\u001b[m\u001b[K = id;\n",
            "                     \u001b[01;35m\u001b[K^~~~~~~~~\u001b[m\u001b[K\n",
            "\u001b[01m\u001b[K./src/blas.c:\u001b[m\u001b[K In function ‘\u001b[01m\u001b[Kfind_sim\u001b[m\u001b[K’:\n",
            "\u001b[01m\u001b[K./src/blas.c:597:59:\u001b[m\u001b[K \u001b[01;35m\u001b[Kwarning: \u001b[m\u001b[Kformat ‘\u001b[01m\u001b[K%d\u001b[m\u001b[K’ expects argument of type ‘\u001b[01m\u001b[Kint\u001b[m\u001b[K’, but argument 2 has type ‘\u001b[01m\u001b[Ksize_t {aka long unsigned int}\u001b[m\u001b[K’ [\u001b[01;35m\u001b[K-Wformat=\u001b[m\u001b[K]\n",
            "         printf(\" Error: find_sim(): sim isn't found: i = \u001b[01;35m\u001b[K%d\u001b[m\u001b[K, j = %d, z = %d \\n\", i, j, z);\n",
            "                                                          \u001b[01;35m\u001b[K~^\u001b[m\u001b[K\n",
            "                                                          \u001b[32m\u001b[K%ld\u001b[m\u001b[K\n",
            "\u001b[01m\u001b[K./src/blas.c:597:67:\u001b[m\u001b[K \u001b[01;35m\u001b[Kwarning: \u001b[m\u001b[Kformat ‘\u001b[01m\u001b[K%d\u001b[m\u001b[K’ expects argument of type ‘\u001b[01m\u001b[Kint\u001b[m\u001b[K’, but argument 3 has type ‘\u001b[01m\u001b[Ksize_t {aka long unsigned int}\u001b[m\u001b[K’ [\u001b[01;35m\u001b[K-Wformat=\u001b[m\u001b[K]\n",
            "         printf(\" Error: find_sim(): sim isn't found: i = %d, j = \u001b[01;35m\u001b[K%d\u001b[m\u001b[K, z = %d \\n\", i, j, z);\n",
            "                                                                  \u001b[01;35m\u001b[K~^\u001b[m\u001b[K\n",
            "                                                                  \u001b[32m\u001b[K%ld\u001b[m\u001b[K\n",
            "\u001b[01m\u001b[K./src/blas.c:597:75:\u001b[m\u001b[K \u001b[01;35m\u001b[Kwarning: \u001b[m\u001b[Kformat ‘\u001b[01m\u001b[K%d\u001b[m\u001b[K’ expects argument of type ‘\u001b[01m\u001b[Kint\u001b[m\u001b[K’, but argument 4 has type ‘\u001b[01m\u001b[Ksize_t {aka long unsigned int}\u001b[m\u001b[K’ [\u001b[01;35m\u001b[K-Wformat=\u001b[m\u001b[K]\n",
            "         printf(\" Error: find_sim(): sim isn't found: i = %d, j = %d, z = \u001b[01;35m\u001b[K%d\u001b[m\u001b[K \\n\", i, j, z);\n",
            "                                                                          \u001b[01;35m\u001b[K~^\u001b[m\u001b[K\n",
            "                                                                          \u001b[32m\u001b[K%ld\u001b[m\u001b[K\n",
            "\u001b[01m\u001b[K./src/blas.c:\u001b[m\u001b[K In function ‘\u001b[01m\u001b[Kfind_P_constrastive\u001b[m\u001b[K’:\n",
            "\u001b[01m\u001b[K./src/blas.c:611:68:\u001b[m\u001b[K \u001b[01;35m\u001b[Kwarning: \u001b[m\u001b[Kformat ‘\u001b[01m\u001b[K%d\u001b[m\u001b[K’ expects argument of type ‘\u001b[01m\u001b[Kint\u001b[m\u001b[K’, but argument 2 has type ‘\u001b[01m\u001b[Ksize_t {aka long unsigned int}\u001b[m\u001b[K’ [\u001b[01;35m\u001b[K-Wformat=\u001b[m\u001b[K]\n",
            "         printf(\" Error: find_P_constrastive(): P isn't found: i = \u001b[01;35m\u001b[K%d\u001b[m\u001b[K, j = %d, z = %d \\n\", i, j, z);\n",
            "                                                                   \u001b[01;35m\u001b[K~^\u001b[m\u001b[K\n",
            "                                                                   \u001b[32m\u001b[K%ld\u001b[m\u001b[K\n",
            "\u001b[01m\u001b[K./src/blas.c:611:76:\u001b[m\u001b[K \u001b[01;35m\u001b[Kwarning: \u001b[m\u001b[Kformat ‘\u001b[01m\u001b[K%d\u001b[m\u001b[K’ expects argument of type ‘\u001b[01m\u001b[Kint\u001b[m\u001b[K’, but argument 3 has type ‘\u001b[01m\u001b[Ksize_t {aka long unsigned int}\u001b[m\u001b[K’ [\u001b[01;35m\u001b[K-Wformat=\u001b[m\u001b[K]\n",
            "         printf(\" Error: find_P_constrastive(): P isn't found: i = %d, j = \u001b[01;35m\u001b[K%d\u001b[m\u001b[K, z = %d \\n\", i, j, z);\n",
            "                                                                           \u001b[01;35m\u001b[K~^\u001b[m\u001b[K\n",
            "                                                                           \u001b[32m\u001b[K%ld\u001b[m\u001b[K\n",
            "\u001b[01m\u001b[K./src/blas.c:611:84:\u001b[m\u001b[K \u001b[01;35m\u001b[Kwarning: \u001b[m\u001b[Kformat ‘\u001b[01m\u001b[K%d\u001b[m\u001b[K’ expects argument of type ‘\u001b[01m\u001b[Kint\u001b[m\u001b[K’, but argument 4 has type ‘\u001b[01m\u001b[Ksize_t {aka long unsigned int}\u001b[m\u001b[K’ [\u001b[01;35m\u001b[K-Wformat=\u001b[m\u001b[K]\n",
            "         printf(\" Error: find_P_constrastive(): P isn't found: i = %d, j = %d, z = \u001b[01;35m\u001b[K%d\u001b[m\u001b[K \\n\", i, j, z);\n",
            "                                                                                   \u001b[01;35m\u001b[K~^\u001b[m\u001b[K\n",
            "                                                                                   \u001b[32m\u001b[K%ld\u001b[m\u001b[K\n",
            "\u001b[01m\u001b[K./src/blas.c:\u001b[m\u001b[K In function ‘\u001b[01m\u001b[KP_constrastive_f\u001b[m\u001b[K’:\n",
            "\u001b[01m\u001b[K./src/blas.c:651:79:\u001b[m\u001b[K \u001b[01;35m\u001b[Kwarning: \u001b[m\u001b[Kformat ‘\u001b[01m\u001b[K%d\u001b[m\u001b[K’ expects argument of type ‘\u001b[01m\u001b[Kint\u001b[m\u001b[K’, but argument 3 has type ‘\u001b[01m\u001b[Ksize_t {aka long unsigned int}\u001b[m\u001b[K’ [\u001b[01;35m\u001b[K-Wformat=\u001b[m\u001b[K]\n",
            "         fprintf(stderr, \" Error: in P_constrastive must be i != l, while i = \u001b[01;35m\u001b[K%d\u001b[m\u001b[K, l = %d \\n\", i, l);\n",
            "                                                                              \u001b[01;35m\u001b[K~^\u001b[m\u001b[K\n",
            "                                                                              \u001b[32m\u001b[K%ld\u001b[m\u001b[K\n",
            "\u001b[01m\u001b[K./src/blas.c:651:87:\u001b[m\u001b[K \u001b[01;35m\u001b[Kwarning: \u001b[m\u001b[Kformat ‘\u001b[01m\u001b[K%d\u001b[m\u001b[K’ expects argument of type ‘\u001b[01m\u001b[Kint\u001b[m\u001b[K’, but argument 4 has type ‘\u001b[01m\u001b[Ksize_t {aka long unsigned int}\u001b[m\u001b[K’ [\u001b[01;35m\u001b[K-Wformat=\u001b[m\u001b[K]\n",
            "         fprintf(stderr, \" Error: in P_constrastive must be i != l, while i = %d, l = \u001b[01;35m\u001b[K%d\u001b[m\u001b[K \\n\", i, l);\n",
            "                                                                                      \u001b[01;35m\u001b[K~^\u001b[m\u001b[K\n",
            "                                                                                      \u001b[32m\u001b[K%ld\u001b[m\u001b[K\n",
            "\u001b[01m\u001b[K./src/blas.c:\u001b[m\u001b[K In function ‘\u001b[01m\u001b[KP_constrastive\u001b[m\u001b[K’:\n",
            "\u001b[01m\u001b[K./src/blas.c:785:79:\u001b[m\u001b[K \u001b[01;35m\u001b[Kwarning: \u001b[m\u001b[Kformat ‘\u001b[01m\u001b[K%d\u001b[m\u001b[K’ expects argument of type ‘\u001b[01m\u001b[Kint\u001b[m\u001b[K’, but argument 3 has type ‘\u001b[01m\u001b[Ksize_t {aka long unsigned int}\u001b[m\u001b[K’ [\u001b[01;35m\u001b[K-Wformat=\u001b[m\u001b[K]\n",
            "         fprintf(stderr, \" Error: in P_constrastive must be i != l, while i = \u001b[01;35m\u001b[K%d\u001b[m\u001b[K, l = %d \\n\", i, l);\n",
            "                                                                              \u001b[01;35m\u001b[K~^\u001b[m\u001b[K\n",
            "                                                                              \u001b[32m\u001b[K%ld\u001b[m\u001b[K\n",
            "\u001b[01m\u001b[K./src/blas.c:785:87:\u001b[m\u001b[K \u001b[01;35m\u001b[Kwarning: \u001b[m\u001b[Kformat ‘\u001b[01m\u001b[K%d\u001b[m\u001b[K’ expects argument of type ‘\u001b[01m\u001b[Kint\u001b[m\u001b[K’, but argument 4 has type ‘\u001b[01m\u001b[Ksize_t {aka long unsigned int}\u001b[m\u001b[K’ [\u001b[01;35m\u001b[K-Wformat=\u001b[m\u001b[K]\n",
            "         fprintf(stderr, \" Error: in P_constrastive must be i != l, while i = %d, l = \u001b[01;35m\u001b[K%d\u001b[m\u001b[K \\n\", i, l);\n",
            "                                                                                      \u001b[01;35m\u001b[K~^\u001b[m\u001b[K\n",
            "                                                                                      \u001b[32m\u001b[K%ld\u001b[m\u001b[K\n",
            "gcc -Iinclude/ -I3rdparty/stb/include -Wall -Wfatal-errors -Wno-unused-result -Wno-unknown-pragmas -fPIC -Ofast -c ./src/crop_layer.c -o obj/crop_layer.o\n",
            "gcc -Iinclude/ -I3rdparty/stb/include -Wall -Wfatal-errors -Wno-unused-result -Wno-unknown-pragmas -fPIC -Ofast -c ./src/dropout_layer.c -o obj/dropout_layer.o\n",
            "gcc -Iinclude/ -I3rdparty/stb/include -Wall -Wfatal-errors -Wno-unused-result -Wno-unknown-pragmas -fPIC -Ofast -c ./src/maxpool_layer.c -o obj/maxpool_layer.o\n",
            "gcc -Iinclude/ -I3rdparty/stb/include -Wall -Wfatal-errors -Wno-unused-result -Wno-unknown-pragmas -fPIC -Ofast -c ./src/softmax_layer.c -o obj/softmax_layer.o\n",
            "\u001b[01m\u001b[K./src/softmax_layer.c:\u001b[m\u001b[K In function ‘\u001b[01m\u001b[Kmake_contrastive_layer\u001b[m\u001b[K’:\n",
            "\u001b[01m\u001b[K./src/softmax_layer.c:203:101:\u001b[m\u001b[K \u001b[01;35m\u001b[Kwarning: \u001b[m\u001b[Kformat ‘\u001b[01m\u001b[K%d\u001b[m\u001b[K’ expects argument of type ‘\u001b[01m\u001b[Kint\u001b[m\u001b[K’, but argument 9 has type ‘\u001b[01m\u001b[Ksize_t {aka const long unsigned int}\u001b[m\u001b[K’ [\u001b[01;35m\u001b[K-Wformat=\u001b[m\u001b[K]\n",
            "     fprintf(stderr, \"contrastive %4d x%4d x%4d x emb_size %4d x batch: %4d  classes = %4d, step = \u001b[01;35m\u001b[K%4d\u001b[m\u001b[K \\n\", w, h, l.n, l.embedding_size, batch, l.classes, step);\n",
            "                                                                                                   \u001b[01;35m\u001b[K~~^\u001b[m\u001b[K\n",
            "                                                                                                   \u001b[32m\u001b[K%4ld\u001b[m\u001b[K\n",
            "\u001b[01m\u001b[K./src/softmax_layer.c:\u001b[m\u001b[K In function ‘\u001b[01m\u001b[Kforward_contrastive_layer\u001b[m\u001b[K’:\n",
            "\u001b[01m\u001b[K./src/softmax_layer.c:244:27:\u001b[m\u001b[K \u001b[01;35m\u001b[Kwarning: \u001b[m\u001b[Kvariable ‘\u001b[01m\u001b[Kmax_truth\u001b[m\u001b[K’ set but not used [\u001b[01;35m\u001b[K-Wunused-but-set-variable\u001b[m\u001b[K]\n",
            "                     float \u001b[01;35m\u001b[Kmax_truth\u001b[m\u001b[K = 0;\n",
            "                           \u001b[01;35m\u001b[K^~~~~~~~~\u001b[m\u001b[K\n",
            "gcc -Iinclude/ -I3rdparty/stb/include -Wall -Wfatal-errors -Wno-unused-result -Wno-unknown-pragmas -fPIC -Ofast -c ./src/data.c -o obj/data.o\n",
            "\u001b[01m\u001b[K./src/data.c:\u001b[m\u001b[K In function ‘\u001b[01m\u001b[Kload_data_detection\u001b[m\u001b[K’:\n",
            "\u001b[01m\u001b[K./src/data.c:1409:43:\u001b[m\u001b[K \u001b[01;35m\u001b[Kwarning: \u001b[m\u001b[Kvariable ‘\u001b[01m\u001b[Kr_scale\u001b[m\u001b[K’ set but not used [\u001b[01;35m\u001b[K-Wunused-but-set-variable\u001b[m\u001b[K]\n",
            "     float r1 = 0, r2 = 0, r3 = 0, r4 = 0, \u001b[01;35m\u001b[Kr_scale\u001b[m\u001b[K;\n",
            "                                           \u001b[01;35m\u001b[K^~~~~~~\u001b[m\u001b[K\n",
            "gcc -Iinclude/ -I3rdparty/stb/include -Wall -Wfatal-errors -Wno-unused-result -Wno-unknown-pragmas -fPIC -Ofast -c ./src/matrix.c -o obj/matrix.o\n",
            "gcc -Iinclude/ -I3rdparty/stb/include -Wall -Wfatal-errors -Wno-unused-result -Wno-unknown-pragmas -fPIC -Ofast -c ./src/network.c -o obj/network.o\n",
            "\u001b[01m\u001b[K./src/network.c:1213:14:\u001b[m\u001b[K \u001b[01;35m\u001b[Kwarning: \u001b[m\u001b[K‘\u001b[01m\u001b[Krelu\u001b[m\u001b[K’ defined but not used [\u001b[01;35m\u001b[K-Wunused-function\u001b[m\u001b[K]\n",
            " static float \u001b[01;35m\u001b[Krelu\u001b[m\u001b[K(float src) {\n",
            "              \u001b[01;35m\u001b[K^~~~\u001b[m\u001b[K\n",
            "gcc -Iinclude/ -I3rdparty/stb/include -Wall -Wfatal-errors -Wno-unused-result -Wno-unknown-pragmas -fPIC -Ofast -c ./src/connected_layer.c -o obj/connected_layer.o\n",
            "gcc -Iinclude/ -I3rdparty/stb/include -Wall -Wfatal-errors -Wno-unused-result -Wno-unknown-pragmas -fPIC -Ofast -c ./src/cost_layer.c -o obj/cost_layer.o\n",
            "gcc -Iinclude/ -I3rdparty/stb/include -Wall -Wfatal-errors -Wno-unused-result -Wno-unknown-pragmas -fPIC -Ofast -c ./src/parser.c -o obj/parser.o\n",
            "\u001b[01m\u001b[K./src/parser.c:\u001b[m\u001b[K In function ‘\u001b[01m\u001b[Kget_classes_multipliers\u001b[m\u001b[K’:\n",
            "\u001b[01m\u001b[K./src/parser.c:428:29:\u001b[m\u001b[K \u001b[01;35m\u001b[Kwarning: \u001b[m\u001b[Kargument 1 range [18446744071562067968, 18446744073709551615] exceeds maximum object size 9223372036854775807 [\u001b[01;35m\u001b[K-Walloc-size-larger-than=\u001b[m\u001b[K]\n",
            "         \u001b[01;35m\u001b[Kclasses_multipliers = (float *)calloc(classes_counters, sizeof(float))\u001b[m\u001b[K;\n",
            "         \u001b[01;35m\u001b[K~~~~~~~~~~~~~~~~~~~~^~~~~~~~~~~~~~~~~~~~~~~~~~~~~~~~~~~~~~~~~~~~~~~~~~\u001b[m\u001b[K\n",
            "In file included from \u001b[01m\u001b[K./src/parser.c:3:0\u001b[m\u001b[K:\n",
            "\u001b[01m\u001b[K/usr/include/stdlib.h:541:14:\u001b[m\u001b[K \u001b[01;36m\u001b[Knote: \u001b[m\u001b[Kin a call to allocation function ‘\u001b[01m\u001b[Kcalloc\u001b[m\u001b[K’ declared here\n",
            " extern void *\u001b[01;36m\u001b[Kcalloc\u001b[m\u001b[K (size_t __nmemb, size_t __size)\n",
            "              \u001b[01;36m\u001b[K^~~~~~\u001b[m\u001b[K\n",
            "gcc -Iinclude/ -I3rdparty/stb/include -Wall -Wfatal-errors -Wno-unused-result -Wno-unknown-pragmas -fPIC -Ofast -c ./src/option_list.c -o obj/option_list.o\n",
            "gcc -Iinclude/ -I3rdparty/stb/include -Wall -Wfatal-errors -Wno-unused-result -Wno-unknown-pragmas -fPIC -Ofast -c ./src/darknet.c -o obj/darknet.o\n",
            "gcc -Iinclude/ -I3rdparty/stb/include -Wall -Wfatal-errors -Wno-unused-result -Wno-unknown-pragmas -fPIC -Ofast -c ./src/detection_layer.c -o obj/detection_layer.o\n",
            "gcc -Iinclude/ -I3rdparty/stb/include -Wall -Wfatal-errors -Wno-unused-result -Wno-unknown-pragmas -fPIC -Ofast -c ./src/captcha.c -o obj/captcha.o\n",
            "gcc -Iinclude/ -I3rdparty/stb/include -Wall -Wfatal-errors -Wno-unused-result -Wno-unknown-pragmas -fPIC -Ofast -c ./src/route_layer.c -o obj/route_layer.o\n",
            "gcc -Iinclude/ -I3rdparty/stb/include -Wall -Wfatal-errors -Wno-unused-result -Wno-unknown-pragmas -fPIC -Ofast -c ./src/writing.c -o obj/writing.o\n",
            "gcc -Iinclude/ -I3rdparty/stb/include -Wall -Wfatal-errors -Wno-unused-result -Wno-unknown-pragmas -fPIC -Ofast -c ./src/box.c -o obj/box.o\n",
            "\u001b[01m\u001b[K./src/box.c:\u001b[m\u001b[K In function ‘\u001b[01m\u001b[Kbox_iou_kind\u001b[m\u001b[K’:\n",
            "\u001b[01m\u001b[K./src/box.c:154:5:\u001b[m\u001b[K \u001b[01;35m\u001b[Kwarning: \u001b[m\u001b[Kenumeration value ‘\u001b[01m\u001b[KMSE\u001b[m\u001b[K’ not handled in switch [\u001b[01;35m\u001b[K-Wswitch\u001b[m\u001b[K]\n",
            "     \u001b[01;35m\u001b[Kswitch\u001b[m\u001b[K(iou_kind) {\n",
            "     \u001b[01;35m\u001b[K^~~~~~\u001b[m\u001b[K\n",
            "\u001b[01m\u001b[K./src/box.c:\u001b[m\u001b[K In function ‘\u001b[01m\u001b[Kdiounms_sort\u001b[m\u001b[K’:\n",
            "\u001b[01m\u001b[K./src/box.c:898:27:\u001b[m\u001b[K \u001b[01;35m\u001b[Kwarning: \u001b[m\u001b[Kunused variable ‘\u001b[01m\u001b[Kbeta_prob\u001b[m\u001b[K’ [\u001b[01;35m\u001b[K-Wunused-variable\u001b[m\u001b[K]\n",
            "                     float \u001b[01;35m\u001b[Kbeta_prob\u001b[m\u001b[K = pow(dets[j].prob[k], 2) / sum_prob;\n",
            "                           \u001b[01;35m\u001b[K^~~~~~~~~\u001b[m\u001b[K\n",
            "\u001b[01m\u001b[K./src/box.c:897:27:\u001b[m\u001b[K \u001b[01;35m\u001b[Kwarning: \u001b[m\u001b[Kunused variable ‘\u001b[01m\u001b[Kalpha_prob\u001b[m\u001b[K’ [\u001b[01;35m\u001b[K-Wunused-variable\u001b[m\u001b[K]\n",
            "                     float \u001b[01;35m\u001b[Kalpha_prob\u001b[m\u001b[K = pow(dets[i].prob[k], 2) / sum_prob;\n",
            "                           \u001b[01;35m\u001b[K^~~~~~~~~~\u001b[m\u001b[K\n",
            "gcc -Iinclude/ -I3rdparty/stb/include -Wall -Wfatal-errors -Wno-unused-result -Wno-unknown-pragmas -fPIC -Ofast -c ./src/nightmare.c -o obj/nightmare.o\n",
            "gcc -Iinclude/ -I3rdparty/stb/include -Wall -Wfatal-errors -Wno-unused-result -Wno-unknown-pragmas -fPIC -Ofast -c ./src/normalization_layer.c -o obj/normalization_layer.o\n",
            "gcc -Iinclude/ -I3rdparty/stb/include -Wall -Wfatal-errors -Wno-unused-result -Wno-unknown-pragmas -fPIC -Ofast -c ./src/avgpool_layer.c -o obj/avgpool_layer.o\n",
            "gcc -Iinclude/ -I3rdparty/stb/include -Wall -Wfatal-errors -Wno-unused-result -Wno-unknown-pragmas -fPIC -Ofast -c ./src/coco.c -o obj/coco.o\n",
            "\u001b[01m\u001b[K./src/coco.c:\u001b[m\u001b[K In function ‘\u001b[01m\u001b[Kvalidate_coco_recall\u001b[m\u001b[K’:\n",
            "\u001b[01m\u001b[K./src/coco.c:248:11:\u001b[m\u001b[K \u001b[01;35m\u001b[Kwarning: \u001b[m\u001b[Kunused variable ‘\u001b[01m\u001b[Kbase\u001b[m\u001b[K’ [\u001b[01;35m\u001b[K-Wunused-variable\u001b[m\u001b[K]\n",
            "     char *\u001b[01;35m\u001b[Kbase\u001b[m\u001b[K = \"results/comp4_det_test_\";\n",
            "           \u001b[01;35m\u001b[K^~~~\u001b[m\u001b[K\n",
            "gcc -Iinclude/ -I3rdparty/stb/include -Wall -Wfatal-errors -Wno-unused-result -Wno-unknown-pragmas -fPIC -Ofast -c ./src/dice.c -o obj/dice.o\n",
            "gcc -Iinclude/ -I3rdparty/stb/include -Wall -Wfatal-errors -Wno-unused-result -Wno-unknown-pragmas -fPIC -Ofast -c ./src/yolo.c -o obj/yolo.o\n",
            "gcc -Iinclude/ -I3rdparty/stb/include -Wall -Wfatal-errors -Wno-unused-result -Wno-unknown-pragmas -fPIC -Ofast -c ./src/detector.c -o obj/detector.o\n",
            "\u001b[01m\u001b[K./src/detector.c:\u001b[m\u001b[K In function ‘\u001b[01m\u001b[Ktrain_detector\u001b[m\u001b[K’:\n",
            "\u001b[01m\u001b[K./src/detector.c:319:13:\u001b[m\u001b[K \u001b[01;35m\u001b[Kwarning: \u001b[m\u001b[Kvariable ‘\u001b[01m\u001b[Kdraw_precision\u001b[m\u001b[K’ set but not used [\u001b[01;35m\u001b[K-Wunused-but-set-variable\u001b[m\u001b[K]\n",
            "         int \u001b[01;35m\u001b[Kdraw_precision\u001b[m\u001b[K = 0;\n",
            "             \u001b[01;35m\u001b[K^~~~~~~~~~~~~~\u001b[m\u001b[K\n",
            "\u001b[01m\u001b[K./src/detector.c:67:11:\u001b[m\u001b[K \u001b[01;35m\u001b[Kwarning: \u001b[m\u001b[Kunused variable ‘\u001b[01m\u001b[Kavg_contrastive_acc\u001b[m\u001b[K’ [\u001b[01;35m\u001b[K-Wunused-variable\u001b[m\u001b[K]\n",
            "     float \u001b[01;35m\u001b[Kavg_contrastive_acc\u001b[m\u001b[K = 0;\n",
            "           \u001b[01;35m\u001b[K^~~~~~~~~~~~~~~~~~~\u001b[m\u001b[K\n",
            "\u001b[01m\u001b[K./src/detector.c:\u001b[m\u001b[K In function ‘\u001b[01m\u001b[Kprint_cocos\u001b[m\u001b[K’:\n",
            "\u001b[01m\u001b[K./src/detector.c:478:29:\u001b[m\u001b[K \u001b[01;35m\u001b[Kwarning: \u001b[m\u001b[Kformat not a string literal and no format arguments [\u001b[01;35m\u001b[K-Wformat-security\u001b[m\u001b[K]\n",
            "                 fprintf(fp, \u001b[01;35m\u001b[Kbuff\u001b[m\u001b[K);\n",
            "                             \u001b[01;35m\u001b[K^~~~\u001b[m\u001b[K\n",
            "\u001b[01m\u001b[K./src/detector.c:\u001b[m\u001b[K In function ‘\u001b[01m\u001b[Keliminate_bdd\u001b[m\u001b[K’:\n",
            "\u001b[01m\u001b[K./src/detector.c:571:21:\u001b[m\u001b[K \u001b[01;35m\u001b[Kwarning: \u001b[m\u001b[Kstatement with no effect [\u001b[01;35m\u001b[K-Wunused-value\u001b[m\u001b[K]\n",
            "                     \u001b[01;35m\u001b[Kfor\u001b[m\u001b[K (k; buf[k + n] != '\\0'; k++)\n",
            "                     \u001b[01;35m\u001b[K^~~\u001b[m\u001b[K\n",
            "\u001b[01m\u001b[K./src/detector.c:\u001b[m\u001b[K In function ‘\u001b[01m\u001b[Kvalidate_detector\u001b[m\u001b[K’:\n",
            "\u001b[01m\u001b[K./src/detector.c:692:13:\u001b[m\u001b[K \u001b[01;35m\u001b[Kwarning: \u001b[m\u001b[Kunused variable ‘\u001b[01m\u001b[Kmkd2\u001b[m\u001b[K’ [\u001b[01;35m\u001b[K-Wunused-variable\u001b[m\u001b[K]\n",
            "         int \u001b[01;35m\u001b[Kmkd2\u001b[m\u001b[K = make_directory(buff2, 0777);\n",
            "             \u001b[01;35m\u001b[K^~~~\u001b[m\u001b[K\n",
            "\u001b[01m\u001b[K./src/detector.c:690:13:\u001b[m\u001b[K \u001b[01;35m\u001b[Kwarning: \u001b[m\u001b[Kunused variable ‘\u001b[01m\u001b[Kmkd\u001b[m\u001b[K’ [\u001b[01;35m\u001b[K-Wunused-variable\u001b[m\u001b[K]\n",
            "         int \u001b[01;35m\u001b[Kmkd\u001b[m\u001b[K = make_directory(buff, 0777);\n",
            "             \u001b[01;35m\u001b[K^~~\u001b[m\u001b[K\n",
            "\u001b[01m\u001b[K./src/detector.c:\u001b[m\u001b[K In function ‘\u001b[01m\u001b[Kvalidate_detector_map\u001b[m\u001b[K’:\n",
            "\u001b[01m\u001b[K./src/detector.c:1323:15:\u001b[m\u001b[K \u001b[01;35m\u001b[Kwarning: \u001b[m\u001b[Kunused variable ‘\u001b[01m\u001b[Kclass_recall\u001b[m\u001b[K’ [\u001b[01;35m\u001b[K-Wunused-variable\u001b[m\u001b[K]\n",
            "         float \u001b[01;35m\u001b[Kclass_recall\u001b[m\u001b[K = (float)tp_for_thresh_per_class[i] / ((float)tp_for_thresh_per_class[i] + (float)(truth_classes_count[i] - tp_for_thresh_per_class[i]));\n",
            "               \u001b[01;35m\u001b[K^~~~~~~~~~~~\u001b[m\u001b[K\n",
            "\u001b[01m\u001b[K./src/detector.c:1322:15:\u001b[m\u001b[K \u001b[01;35m\u001b[Kwarning: \u001b[m\u001b[Kunused variable ‘\u001b[01m\u001b[Kclass_precision\u001b[m\u001b[K’ [\u001b[01;35m\u001b[K-Wunused-variable\u001b[m\u001b[K]\n",
            "         float \u001b[01;35m\u001b[Kclass_precision\u001b[m\u001b[K = (float)tp_for_thresh_per_class[i] / ((float)tp_for_thresh_per_class[i] + (float)fp_for_thresh_per_class[i]);\n",
            "               \u001b[01;35m\u001b[K^~~~~~~~~~~~~~~\u001b[m\u001b[K\n",
            "At top level:\n",
            "\u001b[01m\u001b[K./src/detector.c:444:12:\u001b[m\u001b[K \u001b[01;35m\u001b[Kwarning: \u001b[m\u001b[K‘\u001b[01m\u001b[Kget_coco_image_id\u001b[m\u001b[K’ defined but not used [\u001b[01;35m\u001b[K-Wunused-function\u001b[m\u001b[K]\n",
            " static int \u001b[01;35m\u001b[Kget_coco_image_id\u001b[m\u001b[K(char *filename)\n",
            "            \u001b[01;35m\u001b[K^~~~~~~~~~~~~~~~~\u001b[m\u001b[K\n",
            "gcc -Iinclude/ -I3rdparty/stb/include -Wall -Wfatal-errors -Wno-unused-result -Wno-unknown-pragmas -fPIC -Ofast -c ./src/layer.c -o obj/layer.o\n",
            "gcc -Iinclude/ -I3rdparty/stb/include -Wall -Wfatal-errors -Wno-unused-result -Wno-unknown-pragmas -fPIC -Ofast -c ./src/compare.c -o obj/compare.o\n",
            "gcc -Iinclude/ -I3rdparty/stb/include -Wall -Wfatal-errors -Wno-unused-result -Wno-unknown-pragmas -fPIC -Ofast -c ./src/classifier.c -o obj/classifier.o\n",
            "\u001b[01m\u001b[K./src/classifier.c:\u001b[m\u001b[K In function ‘\u001b[01m\u001b[Ktrain_classifier\u001b[m\u001b[K’:\n",
            "\u001b[01m\u001b[K./src/classifier.c:190:13:\u001b[m\u001b[K \u001b[01;35m\u001b[Kwarning: \u001b[m\u001b[Kvariable ‘\u001b[01m\u001b[Kdraw_precision\u001b[m\u001b[K’ set but not used [\u001b[01;35m\u001b[K-Wunused-but-set-variable\u001b[m\u001b[K]\n",
            "         int \u001b[01;35m\u001b[Kdraw_precision\u001b[m\u001b[K = 0;\n",
            "             \u001b[01;35m\u001b[K^~~~~~~~~~~~~~\u001b[m\u001b[K\n",
            "\u001b[01m\u001b[K./src/classifier.c:146:9:\u001b[m\u001b[K \u001b[01;35m\u001b[Kwarning: \u001b[m\u001b[Kunused variable ‘\u001b[01m\u001b[Kcount\u001b[m\u001b[K’ [\u001b[01;35m\u001b[K-Wunused-variable\u001b[m\u001b[K]\n",
            "     int \u001b[01;35m\u001b[Kcount\u001b[m\u001b[K = 0;\n",
            "         \u001b[01;35m\u001b[K^~~~~\u001b[m\u001b[K\n",
            "\u001b[01m\u001b[K./src/classifier.c:35:11:\u001b[m\u001b[K \u001b[01;35m\u001b[Kwarning: \u001b[m\u001b[Kunused variable ‘\u001b[01m\u001b[Kavg_contrastive_acc\u001b[m\u001b[K’ [\u001b[01;35m\u001b[K-Wunused-variable\u001b[m\u001b[K]\n",
            "     float \u001b[01;35m\u001b[Kavg_contrastive_acc\u001b[m\u001b[K = 0;\n",
            "           \u001b[01;35m\u001b[K^~~~~~~~~~~~~~~~~~~\u001b[m\u001b[K\n",
            "\u001b[01m\u001b[K./src/classifier.c:\u001b[m\u001b[K In function ‘\u001b[01m\u001b[Kpredict_classifier\u001b[m\u001b[K’:\n",
            "\u001b[01m\u001b[K./src/classifier.c:855:13:\u001b[m\u001b[K \u001b[01;35m\u001b[Kwarning: \u001b[m\u001b[Kunused variable ‘\u001b[01m\u001b[Ktime\u001b[m\u001b[K’ [\u001b[01;35m\u001b[K-Wunused-variable\u001b[m\u001b[K]\n",
            "     clock_t \u001b[01;35m\u001b[Ktime\u001b[m\u001b[K;\n",
            "             \u001b[01;35m\u001b[K^~~~\u001b[m\u001b[K\n",
            "gcc -Iinclude/ -I3rdparty/stb/include -Wall -Wfatal-errors -Wno-unused-result -Wno-unknown-pragmas -fPIC -Ofast -c ./src/local_layer.c -o obj/local_layer.o\n",
            "gcc -Iinclude/ -I3rdparty/stb/include -Wall -Wfatal-errors -Wno-unused-result -Wno-unknown-pragmas -fPIC -Ofast -c ./src/swag.c -o obj/swag.o\n",
            "gcc -Iinclude/ -I3rdparty/stb/include -Wall -Wfatal-errors -Wno-unused-result -Wno-unknown-pragmas -fPIC -Ofast -c ./src/shortcut_layer.c -o obj/shortcut_layer.o\n",
            "\u001b[01m\u001b[K./src/shortcut_layer.c:\u001b[m\u001b[K In function ‘\u001b[01m\u001b[Kmake_shortcut_layer\u001b[m\u001b[K’:\n",
            "\u001b[01m\u001b[K./src/shortcut_layer.c:55:15:\u001b[m\u001b[K \u001b[01;35m\u001b[Kwarning: \u001b[m\u001b[Kunused variable ‘\u001b[01m\u001b[Kscale\u001b[m\u001b[K’ [\u001b[01;35m\u001b[K-Wunused-variable\u001b[m\u001b[K]\n",
            "         float \u001b[01;35m\u001b[Kscale\u001b[m\u001b[K = sqrt(2. / l.nweights);\n",
            "               \u001b[01;35m\u001b[K^~~~~\u001b[m\u001b[K\n",
            "gcc -Iinclude/ -I3rdparty/stb/include -Wall -Wfatal-errors -Wno-unused-result -Wno-unknown-pragmas -fPIC -Ofast -c ./src/activation_layer.c -o obj/activation_layer.o\n",
            "gcc -Iinclude/ -I3rdparty/stb/include -Wall -Wfatal-errors -Wno-unused-result -Wno-unknown-pragmas -fPIC -Ofast -c ./src/rnn_layer.c -o obj/rnn_layer.o\n",
            "gcc -Iinclude/ -I3rdparty/stb/include -Wall -Wfatal-errors -Wno-unused-result -Wno-unknown-pragmas -fPIC -Ofast -c ./src/gru_layer.c -o obj/gru_layer.o\n",
            "gcc -Iinclude/ -I3rdparty/stb/include -Wall -Wfatal-errors -Wno-unused-result -Wno-unknown-pragmas -fPIC -Ofast -c ./src/rnn.c -o obj/rnn.o\n",
            "gcc -Iinclude/ -I3rdparty/stb/include -Wall -Wfatal-errors -Wno-unused-result -Wno-unknown-pragmas -fPIC -Ofast -c ./src/rnn_vid.c -o obj/rnn_vid.o\n",
            "gcc -Iinclude/ -I3rdparty/stb/include -Wall -Wfatal-errors -Wno-unused-result -Wno-unknown-pragmas -fPIC -Ofast -c ./src/crnn_layer.c -o obj/crnn_layer.o\n",
            "gcc -Iinclude/ -I3rdparty/stb/include -Wall -Wfatal-errors -Wno-unused-result -Wno-unknown-pragmas -fPIC -Ofast -c ./src/demo.c -o obj/demo.o\n",
            "gcc -Iinclude/ -I3rdparty/stb/include -Wall -Wfatal-errors -Wno-unused-result -Wno-unknown-pragmas -fPIC -Ofast -c ./src/tag.c -o obj/tag.o\n",
            "gcc -Iinclude/ -I3rdparty/stb/include -Wall -Wfatal-errors -Wno-unused-result -Wno-unknown-pragmas -fPIC -Ofast -c ./src/cifar.c -o obj/cifar.o\n",
            "gcc -Iinclude/ -I3rdparty/stb/include -Wall -Wfatal-errors -Wno-unused-result -Wno-unknown-pragmas -fPIC -Ofast -c ./src/go.c -o obj/go.o\n",
            "gcc -Iinclude/ -I3rdparty/stb/include -Wall -Wfatal-errors -Wno-unused-result -Wno-unknown-pragmas -fPIC -Ofast -c ./src/batchnorm_layer.c -o obj/batchnorm_layer.o\n",
            "gcc -Iinclude/ -I3rdparty/stb/include -Wall -Wfatal-errors -Wno-unused-result -Wno-unknown-pragmas -fPIC -Ofast -c ./src/art.c -o obj/art.o\n",
            "gcc -Iinclude/ -I3rdparty/stb/include -Wall -Wfatal-errors -Wno-unused-result -Wno-unknown-pragmas -fPIC -Ofast -c ./src/region_layer.c -o obj/region_layer.o\n",
            "gcc -Iinclude/ -I3rdparty/stb/include -Wall -Wfatal-errors -Wno-unused-result -Wno-unknown-pragmas -fPIC -Ofast -c ./src/reorg_layer.c -o obj/reorg_layer.o\n",
            "gcc -Iinclude/ -I3rdparty/stb/include -Wall -Wfatal-errors -Wno-unused-result -Wno-unknown-pragmas -fPIC -Ofast -c ./src/reorg_old_layer.c -o obj/reorg_old_layer.o\n",
            "gcc -Iinclude/ -I3rdparty/stb/include -Wall -Wfatal-errors -Wno-unused-result -Wno-unknown-pragmas -fPIC -Ofast -c ./src/super.c -o obj/super.o\n",
            "gcc -Iinclude/ -I3rdparty/stb/include -Wall -Wfatal-errors -Wno-unused-result -Wno-unknown-pragmas -fPIC -Ofast -c ./src/voxel.c -o obj/voxel.o\n",
            "gcc -Iinclude/ -I3rdparty/stb/include -Wall -Wfatal-errors -Wno-unused-result -Wno-unknown-pragmas -fPIC -Ofast -c ./src/tree.c -o obj/tree.o\n",
            "gcc -Iinclude/ -I3rdparty/stb/include -Wall -Wfatal-errors -Wno-unused-result -Wno-unknown-pragmas -fPIC -Ofast -c ./src/yolo_layer.c -o obj/yolo_layer.o\n",
            "\u001b[01m\u001b[K./src/yolo_layer.c:\u001b[m\u001b[K In function ‘\u001b[01m\u001b[Kforward_yolo_layer\u001b[m\u001b[K’:\n",
            "\u001b[01m\u001b[K./src/yolo_layer.c:394:25:\u001b[m\u001b[K \u001b[01;35m\u001b[Kwarning: \u001b[m\u001b[Kvariable ‘\u001b[01m\u001b[Kbest_match_t\u001b[m\u001b[K’ set but not used [\u001b[01;35m\u001b[K-Wunused-but-set-variable\u001b[m\u001b[K]\n",
            "                     int \u001b[01;35m\u001b[Kbest_match_t\u001b[m\u001b[K = 0;\n",
            "                         \u001b[01;35m\u001b[K^~~~~~~~~~~~\u001b[m\u001b[K\n",
            "gcc -Iinclude/ -I3rdparty/stb/include -Wall -Wfatal-errors -Wno-unused-result -Wno-unknown-pragmas -fPIC -Ofast -c ./src/gaussian_yolo_layer.c -o obj/gaussian_yolo_layer.o\n",
            "gcc -Iinclude/ -I3rdparty/stb/include -Wall -Wfatal-errors -Wno-unused-result -Wno-unknown-pragmas -fPIC -Ofast -c ./src/upsample_layer.c -o obj/upsample_layer.o\n",
            "gcc -Iinclude/ -I3rdparty/stb/include -Wall -Wfatal-errors -Wno-unused-result -Wno-unknown-pragmas -fPIC -Ofast -c ./src/lstm_layer.c -o obj/lstm_layer.o\n",
            "gcc -Iinclude/ -I3rdparty/stb/include -Wall -Wfatal-errors -Wno-unused-result -Wno-unknown-pragmas -fPIC -Ofast -c ./src/conv_lstm_layer.c -o obj/conv_lstm_layer.o\n",
            "gcc -Iinclude/ -I3rdparty/stb/include -Wall -Wfatal-errors -Wno-unused-result -Wno-unknown-pragmas -fPIC -Ofast -c ./src/scale_channels_layer.c -o obj/scale_channels_layer.o\n",
            "gcc -Iinclude/ -I3rdparty/stb/include -Wall -Wfatal-errors -Wno-unused-result -Wno-unknown-pragmas -fPIC -Ofast -c ./src/sam_layer.c -o obj/sam_layer.o\n",
            "g++ -std=c++11 -std=c++11 -Iinclude/ -I3rdparty/stb/include -Wall -Wfatal-errors -Wno-unused-result -Wno-unknown-pragmas -fPIC -Ofast obj/image_opencv.o obj/http_stream.o obj/gemm.o obj/utils.o obj/dark_cuda.o obj/convolutional_layer.o obj/list.o obj/image.o obj/activations.o obj/im2col.o obj/col2im.o obj/blas.o obj/crop_layer.o obj/dropout_layer.o obj/maxpool_layer.o obj/softmax_layer.o obj/data.o obj/matrix.o obj/network.o obj/connected_layer.o obj/cost_layer.o obj/parser.o obj/option_list.o obj/darknet.o obj/detection_layer.o obj/captcha.o obj/route_layer.o obj/writing.o obj/box.o obj/nightmare.o obj/normalization_layer.o obj/avgpool_layer.o obj/coco.o obj/dice.o obj/yolo.o obj/detector.o obj/layer.o obj/compare.o obj/classifier.o obj/local_layer.o obj/swag.o obj/shortcut_layer.o obj/activation_layer.o obj/rnn_layer.o obj/gru_layer.o obj/rnn.o obj/rnn_vid.o obj/crnn_layer.o obj/demo.o obj/tag.o obj/cifar.o obj/go.o obj/batchnorm_layer.o obj/art.o obj/region_layer.o obj/reorg_layer.o obj/reorg_old_layer.o obj/super.o obj/voxel.o obj/tree.o obj/yolo_layer.o obj/gaussian_yolo_layer.o obj/upsample_layer.o obj/lstm_layer.o obj/conv_lstm_layer.o obj/scale_channels_layer.o obj/sam_layer.o -o darknet -lm -pthread\n"
          ],
          "name": "stdout"
        }
      ]
    },
    {
      "cell_type": "markdown",
      "metadata": {
        "id": "nC4Jn6i7gEjm"
      },
      "source": [
        "## Etapa 7 - Definindo os arquivos de configuração"
      ]
    },
    {
      "cell_type": "markdown",
      "metadata": {
        "id": "fVOROvtWzU4y"
      },
      "source": [
        "### Modificações no .cfg\n",
        "\n",
        "Agora precisamos editar o arquivo .cfg de acordo com a configuração necessária. Vamos fazer uma cópia do yolov3.cfg (pro Drive) para realizarmos as modificações (note que com o comando `cp` podemos fazer uma cópia e definir outro nome, nesse caso definimos `yolov3_custom.cfg`)"
      ]
    },
    {
      "cell_type": "code",
      "metadata": {
        "id": "lhaPYFDrtJbD"
      },
      "source": [
        "!cp cfg/yolov3.cfg /mydrive/Cursos/YOLO/treinamento/yolov3_custom.cfg"
      ],
      "execution_count": null,
      "outputs": []
    },
    {
      "cell_type": "markdown",
      "metadata": {
        "id": "TCjCgsujbKjq"
      },
      "source": [
        "Abra esse arquivo (yolov3_custom.cfg) em um editor de texto. Para isso você pode fazer o download do arquivo e depois editar/salvar e fazer o upload, ou você pode editar com o \"Text Editor\" do Google Drive, basta clicar com o botão direito sobre o arquivo e selecionar `Abrir com > Text Editor`."
      ]
    },
    {
      "cell_type": "markdown",
      "metadata": {
        "id": "HyeWu0Zqb1-g"
      },
      "source": [
        "![image.png](data:image/png;base64,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)"
      ]
    },
    {
      "cell_type": "markdown",
      "metadata": {
        "id": "RCUlCKWJF7A6"
      },
      "source": [
        "Resumidamente, as modificações que teremos que fazer são essas:\n",
        "\n",
        "1. Comentar as linhas onde batch=1 e subdivisions=1\n",
        "2. Descomentar as linhas onde batch=64 e subdivisions=16\n",
        "3. Mudar o valor de max_batches para ser = 2000 * número de classes. Então se por exemplo estamos treinando 3 classes diferentes o valor ficará 6000 (3 * 2000)\n",
        "4. Mudar o valor de steps. Os valores escolhidos devem seguir essa fórmula: 80% do max_batches, 90% do max_batches. Em nosso exemplo o max_batches ficou 6000, logo esse dois valores devem ficar: 4800 (6000 * 0,8) e 5400 (6000 * 0,9)\n",
        "5. Mudar o valor classes. Em cada uma das camadas [yolo] precisaremos alterar os valores que indicam o número de classes. Procure por [yolo] (ctrl+F) e abaixo dessas linhas terá vários campos (mask, anchors, classes, etc). Vamos mudar o valor do campo classes para a quantidade de objetos (classes) que estamos treinando. Então por exemplo, de classes=80 vai ficar classes=3\n",
        "6. Mudar o filtros. Agora devemos alterar as camadas [convolutional] que estão logo antes das [yolo]. Repare que quando procuramos por [yolo] tinha logo acima [convolutional], com alguns campos logo abaixo. \n",
        "No meio desses campos procure pelo campo “filters” e atribua à ele o seguinte valor = ((número de classes + 5) * 3). Em nosso exemplo ficou 24 ((3 + 5) * 3)\n",
        "7. Essa última modificação é opcional pois só é recomendada caso o treinamento apresente algum erro no meio do processo (por uso excessivo de memória), o que é difícil mas pode ocorrer dependendo da configuração da máquina. Também é recomendado caso queira que o tempo de treinamento seja mais rápido (porém a detecção será menos precisa).\n",
        "Se esse for o caso então altere o valor de random (última linha de [yolo]) para 0 (antes estava =1).\n",
        "\n",
        "Você também pode mudar o tamanho da rede (que por padrão é 416x416) alterando os valores “width” e “height“ no arquivo cfg. \n",
        "Quanto maior o tamanho melhor vai ser a detecção para objetos que contém muitos detalhes (pois durante o treinamento o detector vai conseguir “ver” mais detalhes), no entanto o tempo de treinamento e detecção será maior.\n",
        "Se o seu objeto tiver muitos detalhes pequenos você pode tentar fazer o treinamento com um tamanho maior, como 608x608 por exemplo.\n",
        "Até o YOLOv3 o padrão era 416x416, mas a partir do YOLOv4 o cfg passou a vir por padrão com o valor 608x608.\n",
        "Atenção: esse valor do tamanho para “width” e “height“ precisa ser divisível por 32.\n",
        "\n",
        "**Obs:**  Esses valores que definimos são os recomendados, mas se você quiser testar você pode mudar esses valores e fazer o treinamento para ver se há alguma mudança na acurácia do modelo.\n",
        "Por exemplo, subdivisions = 16 costuma dar resultados melhores mas muitos colocam 32 ou até 64 para evitar problemas relacionados à falta de memória. \n",
        "\n",
        "\n",
        "\n",
        "\n",
        "\n"
      ]
    },
    {
      "cell_type": "markdown",
      "metadata": {
        "id": "1CaFZnKGGw9s"
      },
      "source": [
        "### Modificações no obj.names e obj.data\n",
        "\n",
        "Vamos executar os comandos abaixo para criar os arquivos obj.names e obj.data, que vamos precisar para definir algumas configurações do modelo a ser treinado"
      ]
    },
    {
      "cell_type": "code",
      "metadata": {
        "id": "CvX2NUJAdc5l"
      },
      "source": [
        "!touch obj.names\n",
        "!touch obj.data"
      ],
      "execution_count": null,
      "outputs": []
    },
    {
      "cell_type": "markdown",
      "metadata": {
        "id": "UAO7hg0aG_Tt"
      },
      "source": [
        "Após criado esses arquivos vamos copiá-los para o drive, para podermos editar mais facilmente"
      ]
    },
    {
      "cell_type": "code",
      "metadata": {
        "id": "KDcvwZzQdysN"
      },
      "source": [
        "!cp obj.names /mydrive/Cursos/YOLO/treinamento/obj.names\n",
        "!cp obj.data /mydrive/Cursos/YOLO/treinamento/obj.data"
      ],
      "execution_count": null,
      "outputs": []
    },
    {
      "cell_type": "markdown",
      "metadata": {
        "id": "yjMBzPYBgAZ9"
      },
      "source": [
        "Precisamos modificar os arquivos para que fiquem nesse padrão:"
      ]
    },
    {
      "cell_type": "markdown",
      "metadata": {
        "id": "ykHtPz2gkWZQ"
      },
      "source": [
        "![image.png](data:image/png;base64,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)"
      ]
    },
    {
      "cell_type": "markdown",
      "metadata": {
        "id": "B_X9-zSJ_5Rl"
      },
      "source": [
        "Depois de editar ambos os arquivos basta salvá-los.\n",
        "\n",
        "Se quiser conferir o conteúdo do arquivo obj.data podemos usar o comando `cat`."
      ]
    },
    {
      "cell_type": "code",
      "metadata": {
        "id": "X8SkBCdY_1nK",
        "outputId": "8b426d10-32d2-4ced-da59-fc7109fd114f",
        "colab": {
          "base_uri": "https://localhost:8080/",
          "height": 105
        }
      },
      "source": [
        "!cat /mydrive/Cursos/YOLO/treinamento/obj.data"
      ],
      "execution_count": null,
      "outputs": [
        {
          "output_type": "stream",
          "text": [
            "classes = 3\n",
            "train = data/train.txt\n",
            "valid = data/test.txt\n",
            "names = data/obj.names\n",
            "backup = /mydrive/Cursos/YOLO/backup"
          ],
          "name": "stdout"
        }
      ]
    },
    {
      "cell_type": "markdown",
      "metadata": {
        "id": "xQkErxsnvNJ3"
      },
      "source": [
        "## Etapa 8 - Gerando o arquivo train.txt e test.txt\n",
        "\n",
        "Os últimos arquivos necessários para terminar a configuração do nosso dataset personalizado são o train.txt e o test.txt, responsáveis por conter o caminho relativo de todas as imagens de treinamento e de validação, respectivamente.\n",
        "\n",
        "Para não precisar adicionar todos os caminhos manualmente nós iremos usar um script em python que irá listar todas essas imagens (com os respectivos caminhos relativos) no txt.\n",
        "\n",
        "Para gerar o train.txt vamos executar o script `gerar_train.py`. Antes só precisamos extrair o set de treinamento (obj.zip) e validação (valid.zip) dentro do diretório `/data` no darknet"
      ]
    },
    {
      "cell_type": "code",
      "metadata": {
        "id": "UvrRI9IW7-_1"
      },
      "source": [
        "!unzip ../obj.zip -d ./data\n",
        "!unzip ../valid.zip -d ./data"
      ],
      "execution_count": null,
      "outputs": []
    },
    {
      "cell_type": "code",
      "metadata": {
        "id": "ZeakyPwVpptk"
      },
      "source": [
        "!cp /content/gerar_train.py ./\n",
        "!python gerar_train.py"
      ],
      "execution_count": null,
      "outputs": []
    },
    {
      "cell_type": "markdown",
      "metadata": {
        "id": "tkQ1-5Z4wIz-"
      },
      "source": [
        "E para verificar se deu tudo certo, clique duas vezes sobre o arquivo train.txt no File Explorer (menu lateral esquerdo), dentro da pasta darknet/data"
      ]
    },
    {
      "cell_type": "markdown",
      "metadata": {
        "id": "aMp4zKZewGR7"
      },
      "source": [
        "![image.png](data:image/png;base64,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)"
      ]
    },
    {
      "cell_type": "markdown",
      "metadata": {
        "id": "PYh5oj6i8uDN"
      },
      "source": [
        "O test.txt (para validação) é opcional mas recomendado pois com ele podemos acompanhar melhor o progresso do treinamento já que assim será possível visualizar a acurácia do modelo (mAP) conforme ele é treinado.\n",
        "\n",
        "Conforme comentamos, nem sempre será o caso de gerar um dataset separado para validação. Se você preferiu gerar esse dataset então execute os dois comandos abaixo. Caso contrário, execute a célula após essa."
      ]
    },
    {
      "cell_type": "code",
      "metadata": {
        "id": "qwq_-Rjkriwu"
      },
      "source": [
        "!cp /content/gerar_test.py ./\n",
        "!python gerar_test.py"
      ],
      "execution_count": null,
      "outputs": []
    },
    {
      "cell_type": "markdown",
      "metadata": {
        "id": "-tpOiWwJxqWk"
      },
      "source": [
        "Se você possui um número limitado de imagens e por isso quer utilizar todas para o treinamento (o que é recomendado em situações assim), ou por algum outro motivo você não criou um dataset de validação, então você também pode acompanhar o mAP, basta fazer uma cópia do arquivo `train.txt` e renomeá-lo para `test.txt`. \n",
        "Você pode fazer isso através do comando abaixo.\n",
        "\n",
        "Nesse nosso exemplo optamos por deixar o train.txt e test.txt iguais pois obtemos muito poucas imagens de validação para uma das classes. Mas se quiser gerar um set separado basta não executar a célula abaixo e rodar apenas o gerar_test.py"
      ]
    },
    {
      "cell_type": "code",
      "metadata": {
        "id": "pjaSRm6xz_Vu"
      },
      "source": [
        "# só use caso não tenha baixado o set de validação\n",
        "!cp data/train.txt data/test.txt"
      ],
      "execution_count": null,
      "outputs": []
    },
    {
      "cell_type": "markdown",
      "metadata": {
        "id": "5ceXiv8r6RX2"
      },
      "source": [
        "Por fim, vamos copiar o train.txt e o test.txt para o diretório no Google Drive onde estamos salvando os arquivos necessários pro treinamento. "
      ]
    },
    {
      "cell_type": "code",
      "metadata": {
        "id": "FJUPDkOi7Fb4"
      },
      "source": [
        "!cp data/train.txt /mydrive/Cursos/YOLO/treinamento/train.txt\n",
        "!cp data/test.txt /mydrive/Cursos/YOLO/treinamento/test.txt"
      ],
      "execution_count": null,
      "outputs": []
    },
    {
      "cell_type": "markdown",
      "metadata": {
        "id": "zCHhEuNCc63X"
      },
      "source": [
        "Pronto! Agora temos todos os arquivos necessários para o treinamento."
      ]
    },
    {
      "cell_type": "markdown",
      "metadata": {
        "id": "Q-iNXG7CHNia"
      },
      "source": [
        "Vamos visualizar os arquivos que geramos até agora:"
      ]
    },
    {
      "cell_type": "code",
      "metadata": {
        "id": "y5gcbLJ2leaW",
        "outputId": "d060e3e7-051b-4a91-ecc7-816de71e7c5d",
        "colab": {
          "base_uri": "https://localhost:8080/",
          "height": 52
        }
      },
      "source": [
        "ls /mydrive/Cursos/YOLO/treinamento/"
      ],
      "execution_count": null,
      "outputs": [
        {
          "output_type": "stream",
          "text": [
            "\u001b[0m\u001b[01;34mbackup\u001b[0m/   obj.names  test.txt   valid.zip          yolov3_custom_copia.cfg\n",
            "obj.data  obj.zip    train.txt  yolov3_custom.cfg  yolov4_custom.cfg\n"
          ],
          "name": "stdout"
        }
      ]
    },
    {
      "cell_type": "markdown",
      "metadata": {
        "id": "l6G1-KRvqzoF"
      },
      "source": [
        "# Criando seu dataset (método manual)\n",
        "\n",
        "As vezes pode ser necessário construir seu próprio conjunto de imagens manualmente pois em alguns casos, conforme comentado, o objeto que queremos não está presente no Open Images Dataset ou em outra base de imagens disponibilizada na internet. \n",
        "\n",
        "Iremos brevemente explicar como você pode montar seu dataset para qualquer tipo de objeto usando as imagens do Google Imagens.\n",
        "\n",
        "Para montar seu conjunto de imagens nessa situação você tem duas opções:\n",
        " * Baixar imagem por imagem manualmente\n",
        " * Utilizar um script para baixar multiplas imagens de uma única vez\n",
        "\n",
        "A primeira opção é certamente a mais demorada, mas caso decida fazê-la você pode começar na etapa 8. Mas para ser mais rápido recomendamos a segunda opção, para isso é necessário executar todos os passos abaixo: "
      ]
    },
    {
      "cell_type": "markdown",
      "metadata": {
        "id": "2_ace0NPZaGz"
      },
      "source": [
        "1) Ir até o site do [Google Imagens](https://www.google.com.br/imghp) e pesquisar pelo objeto escolhido.\n",
        "\n",
        "2) Descer a barra de rolagem até o momento que você julgar ser o suficiente (pois o script irá baixar todas as imagens que aparecem na página até do ponto que você parou de rolar a barra). Recomendamos ir até o momento que a qualidade das imagens estiver boa (ou até onde começar a aparecer muitas imagens que não estão tão relacionadas ao objeto pesquisado)\n",
        "\n",
        "3) Executar os comandos javascript (do arquivo: codigos_console.js)\n",
        "\n",
        "4) Após executar o último comando javascript será baixado o arquivo `urls.txt`. Mova esse arquivo até a pasta onde você salvou os arquivos presentes no `dataset_manual.zip`\n",
        "\n",
        "5) Criar uma pasta chamada `imagens` e dentro dela crie uma pasta com o nome da classe (caso esteja baixando imagens para mais de uma classe/objeto então crie uma pasta para cada classe)\n",
        "\n",
        "6) Execute o script download_images.py. Dependendo do tamanho pode levar alguns minutos para baixar todas as imagens.\n",
        "\n",
        "7) Acesse o diretório onde estão as imagens e revise se há alguma que não contém o objeto ou que não seja boa e portanto não queira incluir no dataset. Obs: o script foi programado para automaticamente considerar apenas imagens de fato, então no momento do download ele é para descartar imagens inválidas ou vazias. \n",
        "\n",
        "8) Executar os comandos para instalar as bibliotecas necessárias para a utilização do repositório *labelImg* (https://github.com/tzutalin/labelImg). Execute os comandos listados (ou, dependendo da configuração do seu ambiente, acesse o README do repositório pois lá tem todos os comandos para vários ambientes diferentes)\n",
        "\n",
        "9) Clonar o repositório *labelImg* e acessar (usando o comando cd)\n",
        "\n",
        "10) Criar o arquivo classes.txt, que vai conter as classes dos objetos que queremos treinar. \n",
        "\n",
        "11) Executar o seguinte comando `python labelImg.py [PASTA COM AS IMAGENS] [ARQUIVO classes.txt]`\n",
        "\n",
        "Esse comando abrirá a interface do programa. \n",
        "\n",
        "12) Clique no botão PascalVOC (menu) de modo que seja alterado para YOLO. Se estiver aparecendo YOLO no lugar então pode seguir em frente.\n",
        "\n",
        "13) Agora podemos começar a rotular as imagens. Clique no botão \"Create RectBox\" e em seguida clique e arraste o cursor do mouse sobre a área do objeto, de modo que o cubra totalmente da melhor forma possível. Após soltar o mouse vai aparecer uma janela pedindo para escolher qual a classe do objeto que você acabou de selecionar (de acordo com o que você adicionou no classes.txt). Selecione a classe correspondente ao objeto que você acabou de selecionar e clique no botão OK. \n",
        "\n",
        "Caso sua imagem contenha mais de um objeto então faça o mesmo processo. Se você já tiver selecionado todos os objetos que aparecem na imagem então clique em \"Save\" e confirme para salvar o .txt na pasta desejada (a mesma pasta onde estão as imagens) \n",
        "\n",
        "Em seguida clique sobre o botão \"Next Image\".\n",
        "\n",
        "Repita o mesmo procedimento para todas as imagens desejadas.\n",
        "\n",
        "Após terminar de montar seu dataset, compacte a pasta que contém as imagens e os txts para um zip chamado obj.zip. Em seguida, continue a seguir os passos do inicio desse Colab, a partir da Etapa 7 (\"Definindo os arquivos de configuração\")."
      ]
    },
    {
      "cell_type": "markdown",
      "metadata": {
        "id": "nFtqVVueM2CU"
      },
      "source": [
        "\n",
        "Créditos do script para download de imagens do Google: [PyImageSearch](https://www.pyimagesearch.com/2017/12/04/how-to-create-a-deep-learning-dataset-using-google-images/)"
      ]
    }
  ]
}